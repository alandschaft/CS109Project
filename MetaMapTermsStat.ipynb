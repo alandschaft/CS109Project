{
 "cells": [
  {
   "cell_type": "code",
   "execution_count": 1,
   "metadata": {
    "collapsed": false
   },
   "outputs": [],
   "source": [
    "%matplotlib inline\n",
    "import os\n",
    "import requests\n",
    "import pandas as pd\n",
    "from pylab import rcParams\n",
    "import matplotlib.pyplot as plt\n",
    "rcParams['figure.figsize'] = 6, 10 # control plot size"
   ]
  },
  {
   "cell_type": "code",
   "execution_count": 2,
   "metadata": {
    "collapsed": false
   },
   "outputs": [],
   "source": [
    "def __mkdir(*args):\n",
    "    path = os.path.join(*args)\n",
    "    try: \n",
    "        os.makedirs(path)\n",
    "    except OSError:\n",
    "        if not os.path.isdir(path):\n",
    "            raise\n",
    "    return path"
   ]
  },
  {
   "cell_type": "markdown",
   "metadata": {
    "collapsed": true
   },
   "source": [
    "## Set working directory here if different from directory of the ipython notebook"
   ]
  },
  {
   "cell_type": "code",
   "execution_count": 3,
   "metadata": {
    "collapsed": false
   },
   "outputs": [
    {
     "name": "stdout",
     "output_type": "stream",
     "text": [
      "Working directory: C:\\Study\\CS102\\project\\project2\\repro\\CS109Project\n"
     ]
    }
   ],
   "source": [
    "#working_dir = __mkdir(os.path.expanduser(\"~\"), \"Medframes\")\n",
    "\n",
    "# Set working directory as the current directory of the ipython notebook\n",
    "working_dir = os.getcwd()\n",
    "\n",
    "print(\"Working directory: %s\" % working_dir)"
   ]
  },
  {
   "cell_type": "code",
   "execution_count": 5,
   "metadata": {
    "collapsed": false
   },
   "outputs": [
    {
     "data": {
      "text/html": [
       "<div>\n",
       "<table border=\"1\" class=\"dataframe\">\n",
       "  <thead>\n",
       "    <tr style=\"text-align: right;\">\n",
       "      <th></th>\n",
       "      <th>nct_id</th>\n",
       "      <th>criteria_id</th>\n",
       "      <th>ngram_index</th>\n",
       "      <th>score</th>\n",
       "      <th>term</th>\n",
       "      <th>cui</th>\n",
       "      <th>stype</th>\n",
       "      <th>cid</th>\n",
       "    </tr>\n",
       "  </thead>\n",
       "  <tbody>\n",
       "    <tr>\n",
       "      <th>0</th>\n",
       "      <td>NCT00001149</td>\n",
       "      <td>0</td>\n",
       "      <td>0</td>\n",
       "      <td>11.49</td>\n",
       "      <td>Historical aspects qualifier</td>\n",
       "      <td>C0019665</td>\n",
       "      <td>inpr</td>\n",
       "      <td>[x.x.x]</td>\n",
       "    </tr>\n",
       "    <tr>\n",
       "      <th>1</th>\n",
       "      <td>NCT00001149</td>\n",
       "      <td>0</td>\n",
       "      <td>0</td>\n",
       "      <td>8.34</td>\n",
       "      <td>History</td>\n",
       "      <td>C0019664</td>\n",
       "      <td>ocdi</td>\n",
       "      <td>[K01.400]</td>\n",
       "    </tr>\n",
       "    <tr>\n",
       "      <th>2</th>\n",
       "      <td>NCT00001149</td>\n",
       "      <td>0</td>\n",
       "      <td>1</td>\n",
       "      <td>17.80</td>\n",
       "      <td>Seizures</td>\n",
       "      <td>C0036572</td>\n",
       "      <td>sosy</td>\n",
       "      <td>[C10.228.140.490.631, C10.597.742, C23.888.592...</td>\n",
       "    </tr>\n",
       "    <tr>\n",
       "      <th>3</th>\n",
       "      <td>NCT00001149</td>\n",
       "      <td>0</td>\n",
       "      <td>3</td>\n",
       "      <td>8.34</td>\n",
       "      <td>Time</td>\n",
       "      <td>C0040223</td>\n",
       "      <td>tmco</td>\n",
       "      <td>[G01.910]</td>\n",
       "    </tr>\n",
       "    <tr>\n",
       "      <th>4</th>\n",
       "      <td>NCT00001149</td>\n",
       "      <td>0</td>\n",
       "      <td>7</td>\n",
       "      <td>17.80</td>\n",
       "      <td>Seizures</td>\n",
       "      <td>C0036572</td>\n",
       "      <td>sosy</td>\n",
       "      <td>[C10.228.140.490.631, C10.597.742, C23.888.592...</td>\n",
       "    </tr>\n",
       "    <tr>\n",
       "      <th>5</th>\n",
       "      <td>NCT00001149</td>\n",
       "      <td>0</td>\n",
       "      <td>10</td>\n",
       "      <td>9.95</td>\n",
       "      <td>Historical aspects qualifier</td>\n",
       "      <td>C0019665</td>\n",
       "      <td>inpr</td>\n",
       "      <td>[x.x.x]</td>\n",
       "    </tr>\n",
       "    <tr>\n",
       "      <th>6</th>\n",
       "      <td>NCT00001149</td>\n",
       "      <td>0</td>\n",
       "      <td>10</td>\n",
       "      <td>6.79</td>\n",
       "      <td>History</td>\n",
       "      <td>C0019664</td>\n",
       "      <td>ocdi</td>\n",
       "      <td>[K01.400]</td>\n",
       "    </tr>\n",
       "    <tr>\n",
       "      <th>7</th>\n",
       "      <td>NCT00001149</td>\n",
       "      <td>0</td>\n",
       "      <td>11</td>\n",
       "      <td>16.26</td>\n",
       "      <td>Seizures</td>\n",
       "      <td>C0036572</td>\n",
       "      <td>sosy</td>\n",
       "      <td>[C10.228.140.490.631, C10.597.742, C23.888.592...</td>\n",
       "    </tr>\n",
       "    <tr>\n",
       "      <th>8</th>\n",
       "      <td>NCT00001149</td>\n",
       "      <td>0</td>\n",
       "      <td>12</td>\n",
       "      <td>16.26</td>\n",
       "      <td>Seizures</td>\n",
       "      <td>C0036572</td>\n",
       "      <td>sosy</td>\n",
       "      <td>[C10.228.140.490.631, C10.597.742, C23.888.592...</td>\n",
       "    </tr>\n",
       "    <tr>\n",
       "      <th>9</th>\n",
       "      <td>NCT00001149</td>\n",
       "      <td>0</td>\n",
       "      <td>14</td>\n",
       "      <td>6.79</td>\n",
       "      <td>Time</td>\n",
       "      <td>C0040223</td>\n",
       "      <td>tmco</td>\n",
       "      <td>[G01.910]</td>\n",
       "    </tr>\n",
       "  </tbody>\n",
       "</table>\n",
       "</div>"
      ],
      "text/plain": [
       "        nct_id  criteria_id  ngram_index  score                          term  \\\n",
       "0  NCT00001149            0            0  11.49  Historical aspects qualifier   \n",
       "1  NCT00001149            0            0   8.34                       History   \n",
       "2  NCT00001149            0            1  17.80                      Seizures   \n",
       "3  NCT00001149            0            3   8.34                          Time   \n",
       "4  NCT00001149            0            7  17.80                      Seizures   \n",
       "5  NCT00001149            0           10   9.95  Historical aspects qualifier   \n",
       "6  NCT00001149            0           10   6.79                       History   \n",
       "7  NCT00001149            0           11  16.26                      Seizures   \n",
       "8  NCT00001149            0           12  16.26                      Seizures   \n",
       "9  NCT00001149            0           14   6.79                          Time   \n",
       "\n",
       "        cui stype                                                cid  \n",
       "0  C0019665  inpr                                            [x.x.x]  \n",
       "1  C0019664  ocdi                                          [K01.400]  \n",
       "2  C0036572  sosy  [C10.228.140.490.631, C10.597.742, C23.888.592...  \n",
       "3  C0040223  tmco                                          [G01.910]  \n",
       "4  C0036572  sosy  [C10.228.140.490.631, C10.597.742, C23.888.592...  \n",
       "5  C0019665  inpr                                            [x.x.x]  \n",
       "6  C0019664  ocdi                                          [K01.400]  \n",
       "7  C0036572  sosy  [C10.228.140.490.631, C10.597.742, C23.888.592...  \n",
       "8  C0036572  sosy  [C10.228.140.490.631, C10.597.742, C23.888.592...  \n",
       "9  C0040223  tmco                                          [G01.910]  "
      ]
     },
     "execution_count": 5,
     "metadata": {},
     "output_type": "execute_result"
    }
   ],
   "source": [
    "data_dir = __mkdir(working_dir, \"data\")\n",
    "mm = pd.read_pickle(os.path.join(data_dir, \"mm.pckl\"))\n",
    "mm.head(10)"
   ]
  },
  {
   "cell_type": "markdown",
   "metadata": {
    "collapsed": true
   },
   "source": [
    "# Download semantic types info"
   ]
  },
  {
   "cell_type": "code",
   "execution_count": 4,
   "metadata": {
    "collapsed": false
   },
   "outputs": [],
   "source": [
    "def download_stypes(dest_dir):\n",
    "    print(\"Downloading stypes data for to %s\" % dest_dir)\n",
    "    data_url = \"https://metamap.nlm.nih.gov/Docs/SemanticTypes_2013AA.txt\"\n",
    "\n",
    "    out_path = os.path.join(dest_dir, \"stypes_data.txt\")\n",
    "    with open(out_path, 'w') as f:\n",
    "        r = requests.get(data_url)\n",
    "        f.write(r.text)\n",
    "    return dest_dir"
   ]
  },
  {
   "cell_type": "code",
   "execution_count": 5,
   "metadata": {
    "collapsed": false
   },
   "outputs": [
    {
     "name": "stdout",
     "output_type": "stream",
     "text": [
      "Downloading stypes data for to C:\\Study\\CS102\\project\\project2\\repro\\CS109Project\\download\n"
     ]
    },
    {
     "data": {
      "text/plain": [
       "'C:\\\\Study\\\\CS102\\\\project\\\\project2\\\\repro\\\\CS109Project\\\\download'"
      ]
     },
     "execution_count": 5,
     "metadata": {},
     "output_type": "execute_result"
    }
   ],
   "source": [
    "download_dir = __mkdir(working_dir, \"download\")\n",
    "download_stypes(download_dir)"
   ]
  },
  {
   "cell_type": "markdown",
   "metadata": {},
   "source": [
    "# Store semantic types in dataframe"
   ]
  },
  {
   "cell_type": "code",
   "execution_count": 6,
   "metadata": {
    "collapsed": false
   },
   "outputs": [],
   "source": [
    "def stypes_to_dataframe(src_dir):\n",
    "    with open(os.path.join(src_dir, \"stypes_data.txt\")) as f:\n",
    "        data = []\n",
    "        for line in f:\n",
    "            line = line.rstrip('\\n')\n",
    "            st_abbr, st_id, st_full = line.split('|')\n",
    "            d = {'abbr': st_abbr, 'id': st_id, 'full': st_full}\n",
    "            data.append(d)\n",
    "        st_df = pd.DataFrame(data)\n",
    "        return st_df\n",
    "    "
   ]
  },
  {
   "cell_type": "code",
   "execution_count": 7,
   "metadata": {
    "collapsed": false
   },
   "outputs": [],
   "source": [
    "download_dir = __mkdir(working_dir, \"download\")\n",
    "data_dir = __mkdir(working_dir, \"data\")\n",
    "stypes_df = stypes_to_dataframe(download_dir)\n",
    "stypes_df.to_pickle(os.path.join(data_dir, 'stypes.pckl'))"
   ]
  },
  {
   "cell_type": "code",
   "execution_count": 8,
   "metadata": {
    "collapsed": false
   },
   "outputs": [
    {
     "data": {
      "text/html": [
       "<div>\n",
       "<table border=\"1\" class=\"dataframe\">\n",
       "  <thead>\n",
       "    <tr style=\"text-align: right;\">\n",
       "      <th></th>\n",
       "      <th>abbr</th>\n",
       "      <th>full</th>\n",
       "      <th>id</th>\n",
       "    </tr>\n",
       "  </thead>\n",
       "  <tbody>\n",
       "    <tr>\n",
       "      <th>0</th>\n",
       "      <td>aapp</td>\n",
       "      <td>Amino Acid, Peptide, or Protein</td>\n",
       "      <td>T116</td>\n",
       "    </tr>\n",
       "    <tr>\n",
       "      <th>1</th>\n",
       "      <td>acab</td>\n",
       "      <td>Acquired Abnormality</td>\n",
       "      <td>T020</td>\n",
       "    </tr>\n",
       "    <tr>\n",
       "      <th>2</th>\n",
       "      <td>acty</td>\n",
       "      <td>Activity</td>\n",
       "      <td>T052</td>\n",
       "    </tr>\n",
       "    <tr>\n",
       "      <th>3</th>\n",
       "      <td>aggp</td>\n",
       "      <td>Age Group</td>\n",
       "      <td>T100</td>\n",
       "    </tr>\n",
       "    <tr>\n",
       "      <th>4</th>\n",
       "      <td>amas</td>\n",
       "      <td>Amino Acid Sequence</td>\n",
       "      <td>T087</td>\n",
       "    </tr>\n",
       "  </tbody>\n",
       "</table>\n",
       "</div>"
      ],
      "text/plain": [
       "   abbr                             full    id\n",
       "0  aapp  Amino Acid, Peptide, or Protein  T116\n",
       "1  acab             Acquired Abnormality  T020\n",
       "2  acty                         Activity  T052\n",
       "3  aggp                        Age Group  T100\n",
       "4  amas              Amino Acid Sequence  T087"
      ]
     },
     "execution_count": 8,
     "metadata": {},
     "output_type": "execute_result"
    }
   ],
   "source": [
    "stypes = pd.read_pickle(os.path.join(data_dir, 'stypes.pckl'))\n",
    "stypes.head()"
   ]
  },
  {
   "cell_type": "markdown",
   "metadata": {},
   "source": [
    "# Calculate percentages of stypes in mm results"
   ]
  },
  {
   "cell_type": "code",
   "execution_count": 9,
   "metadata": {
    "collapsed": false
   },
   "outputs": [],
   "source": [
    "def get_stypes_with_percentages(mm, stypes):\n",
    "    \"\"\"\n",
    "        For each row in metamap tags dataframe, we inc counts in dict with corresponding stypes as keys.\n",
    "        Then we get full stype name from stypes dataframe, created from downloaded data.\n",
    "        Returns dataframe with stypes info & percentage.\n",
    "    \"\"\"\n",
    "    counts = mm['stype'].value_counts()\n",
    "    stypes_freq_dict = {}\n",
    "    for item in counts.iteritems():\n",
    "        abbrs = item[0].split(',')\n",
    "        count = item[1]\n",
    "        for abbr in abbrs:\n",
    "            if stypes_freq_dict.get(abbr, None):\n",
    "                stypes_freq_dict[abbr] += count\n",
    "            else:\n",
    "                stypes_freq_dict[abbr] = count\n",
    "    data = []\n",
    "    index = []\n",
    "    for abbr, count in stypes_freq_dict.items():\n",
    "        full = stypes[stypes['abbr'] == abbr].full.values[0]\n",
    "        index.append(full)\n",
    "        d = {'abbr': abbr, 'full': full, 'percentage': round(count*100 / float(mm.shape[0]), 2)}\n",
    "        data.append(d)\n",
    "    st_df = pd.DataFrame(data, index)\n",
    "    return st_df"
   ]
  },
  {
   "cell_type": "code",
   "execution_count": 10,
   "metadata": {
    "collapsed": true
   },
   "outputs": [],
   "source": [
    "data_dir = __mkdir(working_dir, \"data\")\n",
    "mm = pd.read_pickle(os.path.join(data_dir, \"mm.pckl\"))\n",
    "stypes = pd.read_pickle(os.path.join(data_dir, 'stypes.pckl'))\n",
    "st_df = get_stypes_with_percentages(mm, stypes)\n",
    "st_df.to_pickle(os.path.join(data_dir, \"stypes_percentage.pckl\"))"
   ]
  },
  {
   "cell_type": "code",
   "execution_count": 11,
   "metadata": {
    "collapsed": false
   },
   "outputs": [
    {
     "data": {
      "text/html": [
       "<div>\n",
       "<table border=\"1\" class=\"dataframe\">\n",
       "  <thead>\n",
       "    <tr style=\"text-align: right;\">\n",
       "      <th></th>\n",
       "      <th>abbr</th>\n",
       "      <th>full</th>\n",
       "      <th>percentage</th>\n",
       "    </tr>\n",
       "  </thead>\n",
       "  <tbody>\n",
       "    <tr>\n",
       "      <th>Population Group</th>\n",
       "      <td>popg</td>\n",
       "      <td>Population Group</td>\n",
       "      <td>3.03</td>\n",
       "    </tr>\n",
       "    <tr>\n",
       "      <th>Injury or Poisoning</th>\n",
       "      <td>inpo</td>\n",
       "      <td>Injury or Poisoning</td>\n",
       "      <td>0.43</td>\n",
       "    </tr>\n",
       "    <tr>\n",
       "      <th>Element, Ion, or Isotope</th>\n",
       "      <td>elii</td>\n",
       "      <td>Element, Ion, or Isotope</td>\n",
       "      <td>0.35</td>\n",
       "    </tr>\n",
       "    <tr>\n",
       "      <th>Idea or Concept</th>\n",
       "      <td>idcn</td>\n",
       "      <td>Idea or Concept</td>\n",
       "      <td>0.82</td>\n",
       "    </tr>\n",
       "    <tr>\n",
       "      <th>Neoplastic Process</th>\n",
       "      <td>neop</td>\n",
       "      <td>Neoplastic Process</td>\n",
       "      <td>0.94</td>\n",
       "    </tr>\n",
       "  </tbody>\n",
       "</table>\n",
       "</div>"
      ],
      "text/plain": [
       "                          abbr                      full  percentage\n",
       "Population Group          popg          Population Group        3.03\n",
       "Injury or Poisoning       inpo       Injury or Poisoning        0.43\n",
       "Element, Ion, or Isotope  elii  Element, Ion, or Isotope        0.35\n",
       "Idea or Concept           idcn           Idea or Concept        0.82\n",
       "Neoplastic Process        neop        Neoplastic Process        0.94"
      ]
     },
     "execution_count": 11,
     "metadata": {},
     "output_type": "execute_result"
    }
   ],
   "source": [
    "stypes_perc = pd.read_pickle(os.path.join(data_dir, 'stypes_percentage.pckl'))\n",
    "stypes_perc.head()"
   ]
  },
  {
   "cell_type": "markdown",
   "metadata": {},
   "source": [
    "# Plot results"
   ]
  },
  {
   "cell_type": "code",
   "execution_count": 19,
   "metadata": {
    "collapsed": true
   },
   "outputs": [],
   "source": [
    "PLOT_CONF = {\n",
    "    'threashold': 1, # include stypes with percentage > threashold only\n",
    "    'mean_line': True,\n",
    "    'std_plus_line': True,\n",
    "    'std_mult': 1, # set to 1 for default. set i*std to get 2*std, 3*std intervals\n",
    "    'std_minus_line': False,\n",
    "    'title': 'Semantic types frequencies'\n",
    "}"
   ]
  },
  {
   "cell_type": "code",
   "execution_count": 20,
   "metadata": {
    "collapsed": true
   },
   "outputs": [],
   "source": [
    "def plot(st_df, conf):\n",
    "    st_df[st_df['percentage'] > conf['threashold']].sort_values(by=['percentage']).percentage.plot.barh(fontsize=12, label='Semantic Types with percentage')\n",
    "    if conf['mean_line']:\n",
    "        plt.axvline(st_df.percentage.mean(), 0, 1, color='r', label='Average')\n",
    "    if conf['std_plus_line']:\n",
    "        plt.axvline(st_df.percentage.mean() + conf['std_mult']*st_df.percentage.std(), 0, 1, color='g', ls='--', label='Average + STD' if conf['std_mult'] == 1 else 'Average + %dSTD' % conf['std_mult'])\n",
    "    if conf['std_minus_line']:\n",
    "        plt.axvline(st_df.percentage.mean() - st_df.percentage.std(), 0, 1, color='b', ls='--', label='Average - STD')\n",
    "    plt.legend(bbox_to_anchor=(2, .94))\n",
    "    if conf['title']:\n",
    "        plt.title(conf['title'])\n",
    "    "
   ]
  },
  {
   "cell_type": "code",
   "execution_count": 21,
   "metadata": {
    "collapsed": false
   },
   "outputs": [
    {
     "data": {
      "image/png": "[encoded data removed]",
      "text/plain": [
       "<matplotlib.figure.Figure at 0x14e10208>"
      ]
     },
     "metadata": {},
     "output_type": "display_data"
    }
   ],
   "source": [
    "data_dir = __mkdir(working_dir, \"data\")\n",
    "st_df = pd.read_pickle(os.path.join(data_dir, 'stypes_percentage.pckl'))\n",
    "plot(st_df, PLOT_CONF)\n",
    "\n"
   ]
  },
  {
   "cell_type": "code",
   "execution_count": null,
   "metadata": {
    "collapsed": true
   },
   "outputs": [],
   "source": []
  }
 ],
 "metadata": {
  "kernelspec": {
   "display_name": "Python 2",
   "language": "python",
   "name": "python2"
  },
  "language_info": {
   "codemirror_mode": {
    "name": "ipython",
    "version": 2
   },
   "file_extension": ".py",
   "mimetype": "text/x-python",
   "name": "python",
   "nbconvert_exporter": "python",
   "pygments_lexer": "ipython2",
   "version": "2.7.10"
  }
 },
 "nbformat": 4,
 "nbformat_minor": 0
}
