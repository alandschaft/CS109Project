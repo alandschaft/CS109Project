{
 "cells": [
  {
   "cell_type": "markdown",
   "metadata": {},
   "source": [
    "# Initial setup\n",
    "\n",
    "Let's import the required libraries and set up global variables for the rest of the script."
   ]
  },
  {
   "cell_type": "code",
   "execution_count": 2,
   "metadata": {
    "collapsed": false
   },
   "outputs": [
    {
     "name": "stdout",
     "output_type": "stream",
     "text": [
      "Requirement already satisfied (use --upgrade to upgrade): tqdm in c:\\anaconda\\lib\\site-packages\n"
     ]
    }
   ],
   "source": [
    "# coding: utf-8\n",
    "!pip install tqdm\n",
    "import csv\n",
    "import os\n",
    "import re\n",
    "import shutil\n",
    "import string\n",
    "import zipfile\n",
    "import sys\n",
    "from collections import defaultdict\n",
    "from lxml import objectify\n",
    "import codecs\n",
    "import nltk\n",
    "import pandas as pd\n",
    "import requests\n",
    "import tarfile\n",
    "import subprocess\n",
    "import platform\n",
    "import time\n",
    "from tqdm import tqdm as progressbar # pandas df usage: 'for row in progressbar(df.itertuples(), total=df.shape[0])'"
   ]
  },
  {
   "cell_type": "markdown",
   "metadata": {},
   "source": [
    "Helper function to create a directory under the specified path, gracefully handling errors."
   ]
  },
  {
   "cell_type": "code",
   "execution_count": 4,
   "metadata": {
    "collapsed": false
   },
   "outputs": [],
   "source": [
    "def __mkdir(*args):\n",
    "    path = os.path.join(*args)\n",
    "    try: \n",
    "        os.makedirs(path)\n",
    "    except OSError:\n",
    "        if not os.path.isdir(path):\n",
    "            raise\n",
    "    return path"
   ]
  },
  {
   "cell_type": "code",
   "execution_count": 6,
   "metadata": {
    "collapsed": false
   },
   "outputs": [
    {
     "name": "stdout",
     "output_type": "stream",
     "text": [
      "Working directory: C:\\Study\\CS102\\project\\project2\\repro\\CS109Project\n",
      "Download directory: C:\\Study\\CS102\\project\\project2\\repro\\CS109Project\\download\n"
     ]
    }
   ],
   "source": [
    "# Create the project directory holding the downloaded data, serialized dataframes and MetaMap install.\n",
    "# working_dir = __mkdir(os.path.expanduser(\"~\"), \"Medframes\")\n",
    "\n",
    "# Set working directory as the current directory of the ipython notebook\n",
    "working_dir = os.getcwd()\n",
    "download_dir = __mkdir(working_dir, \"download\")\n",
    "print(\"Working directory: %s\" % working_dir)\n",
    "print(\"Download directory: %s\" % download_dir)"
   ]
  },
  {
   "cell_type": "markdown",
   "metadata": {},
   "source": [
    "# Data download\n",
    "\n",
    "Download CSV data from clinicaltrials.gov. The data will be written in the working directory specified above as  [data_dir]/study_fields.csv.\n",
    "\n",
    "For clinicaltrials.gov, a search term needs to be specified. In this example, we'll download search results for the term \"seizure\"."
   ]
  },
  {
   "cell_type": "code",
   "execution_count": 4,
   "metadata": {
    "collapsed": true
   },
   "outputs": [],
   "source": [
    "def download_ctgov(dest_dir, search_term):\n",
    "    print(\"Downloading clinicaltrials.gov results for '%s' to %s\" % (search_term, dest_dir))\n",
    "    dl_url = \"https://clinicaltrials.gov/ct2/results/download?down_stds=all&down_typ=results&down_flds=all&down_fmt=xml&term=%s&show_down=Y\" % search_term\n",
    "\n",
    "    # Download the zipped data and extract it to the output directory\n",
    "    out_path = os.path.join(dest_dir, \"download_ctgov.zip\")\n",
    "    with open(out_path, 'wb') as fh:\n",
    "        r = requests.get(dl_url)\n",
    "        for block in r.iter_content(1024):\n",
    "            fh.write(block)\n",
    "    with zipfile.ZipFile(out_path, 'r') as z:\n",
    "        z.extractall(dest_dir)\n",
    "    return dest_dir"
   ]
  },
  {
   "cell_type": "code",
   "execution_count": 5,
   "metadata": {
    "collapsed": false
   },
   "outputs": [
    {
     "name": "stdout",
     "output_type": "stream",
     "text": [
      "Downloading clinicaltrials.gov results for 'seizure' to C:\\Study\\CS102\\project\\project2\\repro\\CS109Project\\download\n"
     ]
    },
    {
     "data": {
      "text/plain": [
       "'C:\\\\Study\\\\CS102\\\\project\\\\project2\\\\repro\\\\CS109Project\\\\download'"
      ]
     },
     "execution_count": 5,
     "metadata": {},
     "output_type": "execute_result"
    }
   ],
   "source": [
    "download_ctgov(download_dir, \"seizure\")"
   ]
  },
  {
   "cell_type": "markdown",
   "metadata": {},
   "source": [
    "# Pandas import\n",
    "\n",
    "Convert the downloaded CSV data to Pandas dataframes and serialize them as Python pickles. The function reads XML files from the working directory and writes to \"ctgov.pckl\""
   ]
  },
  {
   "cell_type": "code",
   "execution_count": 6,
   "metadata": {
    "collapsed": true
   },
   "outputs": [],
   "source": [
    "def ctgov_to_dataframe(src_dir):\n",
    "    # Get all XML files in the data directory\n",
    "    print(\"Transforming cliniclatrials download (%s) to dataframe\" % (src_dir))\n",
    "    data = []\n",
    "    for f in [_ for _ in os.listdir(src_dir) if _.endswith('.xml')]:\n",
    "        xml = objectify.parse(os.path.join(src_dir, f))\n",
    "        root = xml.getroot()\n",
    "        d = defaultdict(list)\n",
    "        for t in root.iter():\n",
    "            if t.text:\n",
    "                key = re.sub(r'\\[\\d+\\]', '', xml.getpath(t)).replace('/clinical_study/', '').replace('/', '.')\n",
    "                val = t.text.strip()\n",
    "                d[key].append(val)\n",
    "        d = {k: v[0] if len(v) == 1 else v for k, v in d.items()}\n",
    "        data.append(d)\n",
    "    data_frame = pd.DataFrame(data)\n",
    "    return data_frame"
   ]
  },
  {
   "cell_type": "markdown",
   "metadata": {},
   "source": [
    "# Writing dataframes\n",
    "Transform the downloaded data to Pandas dataframes and seialize them as Python pickles."
   ]
  },
  {
   "cell_type": "code",
   "execution_count": 7,
   "metadata": {
    "collapsed": false
   },
   "outputs": [
    {
     "name": "stdout",
     "output_type": "stream",
     "text": [
      "Transforming cliniclatrials download (C:\\Study\\CS102\\project\\project2\\repro\\CS109Project\\download) to dataframe\n"
     ]
    }
   ],
   "source": [
    "download_dir = __mkdir(working_dir, \"download\")\n",
    "data_dir = __mkdir(working_dir, \"data\")\n",
    "ct_df = ctgov_to_dataframe(download_dir)\n",
    "ct_df.to_pickle(os.path.join(data_dir, 'ctgov.pckl'))"
   ]
  },
  {
   "cell_type": "markdown",
   "metadata": {},
   "source": [
    "# Reading dataframes\n",
    "\n",
    "Read the pickled data back into Pandas and display the first 5 records. In this example, the pickled dataframe is serialized to \"ctgov.pckl\" in the working directory."
   ]
  },
  {
   "cell_type": "code",
   "execution_count": 8,
   "metadata": {
    "collapsed": false
   },
   "outputs": [
    {
     "data": {
      "text/html": [
       "<div>\n",
       "<table border=\"1\" class=\"dataframe\">\n",
       "  <thead>\n",
       "    <tr style=\"text-align: right;\">\n",
       "      <th></th>\n",
       "      <th>acronym</th>\n",
       "      <th>arm_group.arm_group_label</th>\n",
       "      <th>arm_group.arm_group_type</th>\n",
       "      <th>arm_group.description</th>\n",
       "      <th>biospec_descr.textblock</th>\n",
       "      <th>biospec_retention</th>\n",
       "      <th>brief_summary.textblock</th>\n",
       "      <th>brief_title</th>\n",
       "      <th>clinical_results.baseline.group_list.group.description</th>\n",
       "      <th>clinical_results.baseline.group_list.group.title</th>\n",
       "      <th>...</th>\n",
       "      <th>sponsors.collaborator.agency</th>\n",
       "      <th>sponsors.collaborator.agency_class</th>\n",
       "      <th>sponsors.lead_sponsor.agency</th>\n",
       "      <th>sponsors.lead_sponsor.agency_class</th>\n",
       "      <th>start_date</th>\n",
       "      <th>study_design</th>\n",
       "      <th>study_type</th>\n",
       "      <th>target_duration</th>\n",
       "      <th>verification_date</th>\n",
       "      <th>why_stopped</th>\n",
       "    </tr>\n",
       "  </thead>\n",
       "  <tbody>\n",
       "    <tr>\n",
       "      <th>0</th>\n",
       "      <td>NaN</td>\n",
       "      <td>NaN</td>\n",
       "      <td>NaN</td>\n",
       "      <td>NaN</td>\n",
       "      <td>NaN</td>\n",
       "      <td>NaN</td>\n",
       "      <td>This study is designed to evaluate patients wi...</td>\n",
       "      <td>Monitoring Patients With Uncontrolled Epilepsy</td>\n",
       "      <td>NaN</td>\n",
       "      <td>NaN</td>\n",
       "      <td>...</td>\n",
       "      <td>NaN</td>\n",
       "      <td>NaN</td>\n",
       "      <td>National Institute of Neurological Disorders a...</td>\n",
       "      <td>NIH</td>\n",
       "      <td>November 1975</td>\n",
       "      <td>N/A</td>\n",
       "      <td>Observational</td>\n",
       "      <td>NaN</td>\n",
       "      <td>January 2002</td>\n",
       "      <td>NaN</td>\n",
       "    </tr>\n",
       "    <tr>\n",
       "      <th>1</th>\n",
       "      <td>NaN</td>\n",
       "      <td>NaN</td>\n",
       "      <td>NaN</td>\n",
       "      <td>NaN</td>\n",
       "      <td>NaN</td>\n",
       "      <td>NaN</td>\n",
       "      <td>This study will allow researchers to use vario...</td>\n",
       "      <td>Neuropsychological Evaluation of Psychiatric a...</td>\n",
       "      <td>NaN</td>\n",
       "      <td>NaN</td>\n",
       "      <td>...</td>\n",
       "      <td>NaN</td>\n",
       "      <td>NaN</td>\n",
       "      <td>National Institute of Mental Health (NIMH)</td>\n",
       "      <td>NIH</td>\n",
       "      <td>October 1983</td>\n",
       "      <td>N/A</td>\n",
       "      <td>Observational</td>\n",
       "      <td>NaN</td>\n",
       "      <td>December 2006</td>\n",
       "      <td>NaN</td>\n",
       "    </tr>\n",
       "    <tr>\n",
       "      <th>2</th>\n",
       "      <td>NaN</td>\n",
       "      <td>NaN</td>\n",
       "      <td>NaN</td>\n",
       "      <td>NaN</td>\n",
       "      <td>NaN</td>\n",
       "      <td>NaN</td>\n",
       "      <td>The purpose of this study is to evaluate, trea...</td>\n",
       "      <td>Treatment of Patients With Cysticercosis With ...</td>\n",
       "      <td>NaN</td>\n",
       "      <td>NaN</td>\n",
       "      <td>...</td>\n",
       "      <td>NaN</td>\n",
       "      <td>NaN</td>\n",
       "      <td>National Institute of Allergy and Infectious D...</td>\n",
       "      <td>NIH</td>\n",
       "      <td>July 1985</td>\n",
       "      <td>Time Perspective: Prospective</td>\n",
       "      <td>Observational</td>\n",
       "      <td>NaN</td>\n",
       "      <td>December 2014</td>\n",
       "      <td>NaN</td>\n",
       "    </tr>\n",
       "    <tr>\n",
       "      <th>3</th>\n",
       "      <td>NaN</td>\n",
       "      <td>NaN</td>\n",
       "      <td>NaN</td>\n",
       "      <td>NaN</td>\n",
       "      <td>NaN</td>\n",
       "      <td>NaN</td>\n",
       "      <td>Our past ultrasound research has indicated a n...</td>\n",
       "      <td>Development of Normative Ultrasound Databases ...</td>\n",
       "      <td>NaN</td>\n",
       "      <td>NaN</td>\n",
       "      <td>...</td>\n",
       "      <td>NaN</td>\n",
       "      <td>NaN</td>\n",
       "      <td>National Institutes of Health Clinical Center ...</td>\n",
       "      <td>NIH</td>\n",
       "      <td>February 1987</td>\n",
       "      <td>N/A</td>\n",
       "      <td>Observational</td>\n",
       "      <td>NaN</td>\n",
       "      <td>January 2000</td>\n",
       "      <td>NaN</td>\n",
       "    </tr>\n",
       "    <tr>\n",
       "      <th>4</th>\n",
       "      <td>NaN</td>\n",
       "      <td>Copper histidine</td>\n",
       "      <td>Experimental</td>\n",
       "      <td>NaN</td>\n",
       "      <td>NaN</td>\n",
       "      <td>NaN</td>\n",
       "      <td>Menkes Disease is a genetic disorder affecting...</td>\n",
       "      <td>Copper Histidine Therapy for Menkes Diseases</td>\n",
       "      <td>[Classic Menkes disease: Copper histidine trea...</td>\n",
       "      <td>[Early, Late, Mild, Total]</td>\n",
       "      <td>...</td>\n",
       "      <td>NaN</td>\n",
       "      <td>NaN</td>\n",
       "      <td>Eunice Kennedy Shriver National Institute of C...</td>\n",
       "      <td>NIH</td>\n",
       "      <td>June 1990</td>\n",
       "      <td>Endpoint Classification: Safety/Efficacy Study...</td>\n",
       "      <td>Interventional</td>\n",
       "      <td>NaN</td>\n",
       "      <td>September 2015</td>\n",
       "      <td>NaN</td>\n",
       "    </tr>\n",
       "  </tbody>\n",
       "</table>\n",
       "<p>5 rows × 187 columns</p>\n",
       "</div>"
      ],
      "text/plain": [
       "  acronym arm_group.arm_group_label arm_group.arm_group_type  \\\n",
       "0     NaN                       NaN                      NaN   \n",
       "1     NaN                       NaN                      NaN   \n",
       "2     NaN                       NaN                      NaN   \n",
       "3     NaN                       NaN                      NaN   \n",
       "4     NaN          Copper histidine             Experimental   \n",
       "\n",
       "  arm_group.description biospec_descr.textblock biospec_retention  \\\n",
       "0                   NaN                     NaN               NaN   \n",
       "1                   NaN                     NaN               NaN   \n",
       "2                   NaN                     NaN               NaN   \n",
       "3                   NaN                     NaN               NaN   \n",
       "4                   NaN                     NaN               NaN   \n",
       "\n",
       "                             brief_summary.textblock  \\\n",
       "0  This study is designed to evaluate patients wi...   \n",
       "1  This study will allow researchers to use vario...   \n",
       "2  The purpose of this study is to evaluate, trea...   \n",
       "3  Our past ultrasound research has indicated a n...   \n",
       "4  Menkes Disease is a genetic disorder affecting...   \n",
       "\n",
       "                                         brief_title  \\\n",
       "0     Monitoring Patients With Uncontrolled Epilepsy   \n",
       "1  Neuropsychological Evaluation of Psychiatric a...   \n",
       "2  Treatment of Patients With Cysticercosis With ...   \n",
       "3  Development of Normative Ultrasound Databases ...   \n",
       "4       Copper Histidine Therapy for Menkes Diseases   \n",
       "\n",
       "  clinical_results.baseline.group_list.group.description  \\\n",
       "0                                                NaN       \n",
       "1                                                NaN       \n",
       "2                                                NaN       \n",
       "3                                                NaN       \n",
       "4  [Classic Menkes disease: Copper histidine trea...       \n",
       "\n",
       "  clinical_results.baseline.group_list.group.title     ...      \\\n",
       "0                                              NaN     ...       \n",
       "1                                              NaN     ...       \n",
       "2                                              NaN     ...       \n",
       "3                                              NaN     ...       \n",
       "4                       [Early, Late, Mild, Total]     ...       \n",
       "\n",
       "  sponsors.collaborator.agency sponsors.collaborator.agency_class  \\\n",
       "0                          NaN                                NaN   \n",
       "1                          NaN                                NaN   \n",
       "2                          NaN                                NaN   \n",
       "3                          NaN                                NaN   \n",
       "4                          NaN                                NaN   \n",
       "\n",
       "                        sponsors.lead_sponsor.agency  \\\n",
       "0  National Institute of Neurological Disorders a...   \n",
       "1         National Institute of Mental Health (NIMH)   \n",
       "2  National Institute of Allergy and Infectious D...   \n",
       "3  National Institutes of Health Clinical Center ...   \n",
       "4  Eunice Kennedy Shriver National Institute of C...   \n",
       "\n",
       "  sponsors.lead_sponsor.agency_class     start_date  \\\n",
       "0                                NIH  November 1975   \n",
       "1                                NIH   October 1983   \n",
       "2                                NIH      July 1985   \n",
       "3                                NIH  February 1987   \n",
       "4                                NIH      June 1990   \n",
       "\n",
       "                                        study_design      study_type  \\\n",
       "0                                                N/A   Observational   \n",
       "1                                                N/A   Observational   \n",
       "2                      Time Perspective: Prospective   Observational   \n",
       "3                                                N/A   Observational   \n",
       "4  Endpoint Classification: Safety/Efficacy Study...  Interventional   \n",
       "\n",
       "  target_duration verification_date why_stopped  \n",
       "0             NaN      January 2002         NaN  \n",
       "1             NaN     December 2006         NaN  \n",
       "2             NaN     December 2014         NaN  \n",
       "3             NaN      January 2000         NaN  \n",
       "4             NaN    September 2015         NaN  \n",
       "\n",
       "[5 rows x 187 columns]"
      ]
     },
     "execution_count": 8,
     "metadata": {},
     "output_type": "execute_result"
    }
   ],
   "source": [
    "data_dir = __mkdir(working_dir, \"data\")\n",
    "ctgov_data = pd.read_pickle(os.path.join(data_dir, 'ctgov.pckl'))\n",
    "ctgov_data.head()"
   ]
  },
  {
   "cell_type": "markdown",
   "metadata": {},
   "source": [
    "# Extract criteria\n",
    "\n",
    "Read in the serialized data from clinicaltrials.gov and extract inclusion/exlcusion criteria, one per row. Output a Series(id_info.nct_id, Criteria, Inclusion, TokenCount)."
   ]
  },
  {
   "cell_type": "code",
   "execution_count": 9,
   "metadata": {
    "collapsed": false
   },
   "outputs": [],
   "source": [
    "def id_generator(first_val=0, inc_func=lambda val: val + 1):\n",
    "    \"\"\"\n",
    "        Simple id generator. It takes first val & increase function and yields ids as needed.\n",
    "        Will return integers starting from 0 by default.\n",
    "    \"\"\"\n",
    "    id = first_val\n",
    "    while True:\n",
    "        yield id\n",
    "        id = inc_func(id)\n",
    "        \n",
    "        \n",
    "def __process_criteria(data, get_criteria_id):\n",
    "    \"\"\"\n",
    "        Extract inclusion and exclusion criteria from the clinical trials data.\n",
    "        Then - Tokenize and write the extracted data to a frame.\n",
    "    \"\"\"\n",
    "    pat = r\"^([\\w\\-]*\\s*){0,5}%s criteria[\\s\\w\\(\\),]*:\"\n",
    "    inpat = re.compile(pat % 'inclusion', re.UNICODE)\n",
    "    expat = re.compile(pat % 'exclusion', re.UNICODE)\n",
    "    try:\n",
    "        incl = True\n",
    "        nct_id = data[1]\n",
    "        txt = [_.strip() for _ in data[2].split(u'\\n\\n')]\n",
    "        for l in txt:\n",
    "            if re.match(inpat, l.lower()):\n",
    "                incl = True\n",
    "            elif re.match(expat, l.lower()):\n",
    "                incl = False\n",
    "            else:\n",
    "                toks = nltk.word_tokenize(l)\n",
    "                cri_id = next(get_criteria_id)\n",
    "                s = {'criteria_id': cri_id, 'NctId': nct_id, 'Criteria': unicode(l), 'Include': incl, 'Tokens': toks, 'TokenCount': len(toks)}\n",
    "                yield s\n",
    "    except Exception as e:\n",
    "        print(\"Error processing row %s: %s\" % (data[2], e))\n",
    "\n",
    "        \n",
    "def extract_criteria(data):\n",
    "    \"\"\"\n",
    "        Extract inclusion and exclusion criteria from each clinical trial into\n",
    "    \"\"\"\n",
    "    print(\"Transforming data (extracting criteria)\")\n",
    "    criteria_id_generator = id_generator()\n",
    "    transformed = [s for row in data[['id_info.nct_id', 'eligibility.criteria.textblock']].itertuples() for s in\n",
    "                   __process_criteria(row, criteria_id_generator)]\n",
    "    df = pd.DataFrame(transformed)\n",
    "    return df"
   ]
  },
  {
   "cell_type": "markdown",
   "metadata": {},
   "source": [
    "Transform the data and write the result to a file. (You'll notice that the script logs an error for one row. This is expected and results from that row being a \"NaN\".)"
   ]
  },
  {
   "cell_type": "code",
   "execution_count": 10,
   "metadata": {
    "collapsed": false
   },
   "outputs": [
    {
     "name": "stdout",
     "output_type": "stream",
     "text": [
      "Transforming data (extracting criteria)\n",
      "Error processing row nan: 'float' object has no attribute 'split'\n"
     ]
    }
   ],
   "source": [
    "# Read in the data\n",
    "data_dir = __mkdir(working_dir, \"data\")\n",
    "ctgov_data = pd.read_pickle(os.path.join(data_dir, 'ctgov.pckl'))\n",
    "# Extract criteria\n",
    "criteria = extract_criteria(ctgov_data)\n",
    "criteria.to_pickle(os.path.join(data_dir, 'ct_criteria.pckl'))"
   ]
  },
  {
   "cell_type": "markdown",
   "metadata": {},
   "source": [
    "Read back the data and display a record selected by column value."
   ]
  },
  {
   "cell_type": "code",
   "execution_count": 11,
   "metadata": {
    "collapsed": false
   },
   "outputs": [
    {
     "data": {
      "text/html": [
       "<div>\n",
       "<table border=\"1\" class=\"dataframe\">\n",
       "  <thead>\n",
       "    <tr style=\"text-align: right;\">\n",
       "      <th></th>\n",
       "      <th>Criteria</th>\n",
       "      <th>Include</th>\n",
       "      <th>NctId</th>\n",
       "      <th>TokenCount</th>\n",
       "      <th>Tokens</th>\n",
       "      <th>criteria_id</th>\n",
       "    </tr>\n",
       "  </thead>\n",
       "  <tbody>\n",
       "    <tr>\n",
       "      <th>4</th>\n",
       "      <td>Patients.</td>\n",
       "      <td>True</td>\n",
       "      <td>NCT00001192</td>\n",
       "      <td>2</td>\n",
       "      <td>[Patients, .]</td>\n",
       "      <td>4</td>\n",
       "    </tr>\n",
       "  </tbody>\n",
       "</table>\n",
       "</div>"
      ],
      "text/plain": [
       "    Criteria Include        NctId  TokenCount         Tokens  criteria_id\n",
       "4  Patients.    True  NCT00001192           2  [Patients, .]            4"
      ]
     },
     "execution_count": 11,
     "metadata": {},
     "output_type": "execute_result"
    }
   ],
   "source": [
    "criteria = pd.read_pickle(os.path.join(data_dir, 'ct_criteria.pckl'))\n",
    "criteria.loc[criteria['criteria_id'] == 4]"
   ]
  },
  {
   "cell_type": "code",
   "execution_count": 12,
   "metadata": {
    "collapsed": false
   },
   "outputs": [
    {
     "data": {
      "text/html": [
       "<div>\n",
       "<table border=\"1\" class=\"dataframe\">\n",
       "  <thead>\n",
       "    <tr style=\"text-align: right;\">\n",
       "      <th></th>\n",
       "      <th>Criteria</th>\n",
       "      <th>Include</th>\n",
       "      <th>NctId</th>\n",
       "      <th>TokenCount</th>\n",
       "      <th>Tokens</th>\n",
       "      <th>criteria_id</th>\n",
       "    </tr>\n",
       "  </thead>\n",
       "  <tbody>\n",
       "    <tr>\n",
       "      <th>9611</th>\n",
       "      <td>1. Diagnosis of Partial/Focal Onset Epilepsy (...</td>\n",
       "      <td>True</td>\n",
       "      <td>NCT01373190</td>\n",
       "      <td>13</td>\n",
       "      <td>[1, ., Diagnosis, of, Partial/Focal, Onset, Ep...</td>\n",
       "      <td>9611</td>\n",
       "    </tr>\n",
       "    <tr>\n",
       "      <th>9612</th>\n",
       "      <td>2. Ages 18-70</td>\n",
       "      <td>True</td>\n",
       "      <td>NCT01373190</td>\n",
       "      <td>4</td>\n",
       "      <td>[2, ., Ages, 18-70]</td>\n",
       "      <td>9612</td>\n",
       "    </tr>\n",
       "    <tr>\n",
       "      <th>9613</th>\n",
       "      <td>1. Pregnancy</td>\n",
       "      <td>False</td>\n",
       "      <td>NCT01373190</td>\n",
       "      <td>3</td>\n",
       "      <td>[1, ., Pregnancy]</td>\n",
       "      <td>9613</td>\n",
       "    </tr>\n",
       "    <tr>\n",
       "      <th>9614</th>\n",
       "      <td>2. Recent trauma such as motor vehicle acciden...</td>\n",
       "      <td>False</td>\n",
       "      <td>NCT01373190</td>\n",
       "      <td>15</td>\n",
       "      <td>[2, ., Recent, trauma, such, as, motor, vehicl...</td>\n",
       "      <td>9614</td>\n",
       "    </tr>\n",
       "    <tr>\n",
       "      <th>9615</th>\n",
       "      <td>3. Currently on medication, other than for epi...</td>\n",
       "      <td>False</td>\n",
       "      <td>NCT01373190</td>\n",
       "      <td>22</td>\n",
       "      <td>[3, ., Currently, on, medication, ,, other, th...</td>\n",
       "      <td>9615</td>\n",
       "    </tr>\n",
       "    <tr>\n",
       "      <th>9616</th>\n",
       "      <td>4. If diagnosed with a condition which could a...</td>\n",
       "      <td>False</td>\n",
       "      <td>NCT01373190</td>\n",
       "      <td>15</td>\n",
       "      <td>[4, ., If, diagnosed, with, a, condition, whic...</td>\n",
       "      <td>9616</td>\n",
       "    </tr>\n",
       "    <tr>\n",
       "      <th>9617</th>\n",
       "      <td>1. Irritable bowel syndrome</td>\n",
       "      <td>False</td>\n",
       "      <td>NCT01373190</td>\n",
       "      <td>5</td>\n",
       "      <td>[1, ., Irritable, bowel, syndrome]</td>\n",
       "      <td>9617</td>\n",
       "    </tr>\n",
       "    <tr>\n",
       "      <th>9618</th>\n",
       "      <td>2. Crohn's disease</td>\n",
       "      <td>False</td>\n",
       "      <td>NCT01373190</td>\n",
       "      <td>5</td>\n",
       "      <td>[2, ., Crohn, 's, disease]</td>\n",
       "      <td>9618</td>\n",
       "    </tr>\n",
       "    <tr>\n",
       "      <th>9619</th>\n",
       "      <td>3. Ulcerative colitis</td>\n",
       "      <td>False</td>\n",
       "      <td>NCT01373190</td>\n",
       "      <td>4</td>\n",
       "      <td>[3, ., Ulcerative, colitis]</td>\n",
       "      <td>9619</td>\n",
       "    </tr>\n",
       "    <tr>\n",
       "      <th>9620</th>\n",
       "      <td>4. Migraine headache with abdominal manifestation</td>\n",
       "      <td>False</td>\n",
       "      <td>NCT01373190</td>\n",
       "      <td>7</td>\n",
       "      <td>[4, ., Migraine, headache, with, abdominal, ma...</td>\n",
       "      <td>9620</td>\n",
       "    </tr>\n",
       "    <tr>\n",
       "      <th>9621</th>\n",
       "      <td>1. No history or diagnosis of any seizure diso...</td>\n",
       "      <td>True</td>\n",
       "      <td>NCT01373190</td>\n",
       "      <td>10</td>\n",
       "      <td>[1, ., No, history, or, diagnosis, of, any, se...</td>\n",
       "      <td>9621</td>\n",
       "    </tr>\n",
       "    <tr>\n",
       "      <th>9622</th>\n",
       "      <td>2. Ages 18-70</td>\n",
       "      <td>True</td>\n",
       "      <td>NCT01373190</td>\n",
       "      <td>4</td>\n",
       "      <td>[2, ., Ages, 18-70]</td>\n",
       "      <td>9622</td>\n",
       "    </tr>\n",
       "    <tr>\n",
       "      <th>9623</th>\n",
       "      <td>1. Pregnancy</td>\n",
       "      <td>False</td>\n",
       "      <td>NCT01373190</td>\n",
       "      <td>3</td>\n",
       "      <td>[1, ., Pregnancy]</td>\n",
       "      <td>9623</td>\n",
       "    </tr>\n",
       "    <tr>\n",
       "      <th>9624</th>\n",
       "      <td>2. Recent trauma such as motor vehicle acciden...</td>\n",
       "      <td>False</td>\n",
       "      <td>NCT01373190</td>\n",
       "      <td>15</td>\n",
       "      <td>[2, ., Recent, trauma, such, as, motor, vehicl...</td>\n",
       "      <td>9624</td>\n",
       "    </tr>\n",
       "    <tr>\n",
       "      <th>9625</th>\n",
       "      <td>3. Currently on medication, other than for epi...</td>\n",
       "      <td>False</td>\n",
       "      <td>NCT01373190</td>\n",
       "      <td>22</td>\n",
       "      <td>[3, ., Currently, on, medication, ,, other, th...</td>\n",
       "      <td>9625</td>\n",
       "    </tr>\n",
       "    <tr>\n",
       "      <th>9626</th>\n",
       "      <td>4. If diagnosed with a condition which could a...</td>\n",
       "      <td>False</td>\n",
       "      <td>NCT01373190</td>\n",
       "      <td>15</td>\n",
       "      <td>[4, ., If, diagnosed, with, a, condition, whic...</td>\n",
       "      <td>9626</td>\n",
       "    </tr>\n",
       "    <tr>\n",
       "      <th>9627</th>\n",
       "      <td>1. Irritable bowel syndrome</td>\n",
       "      <td>False</td>\n",
       "      <td>NCT01373190</td>\n",
       "      <td>5</td>\n",
       "      <td>[1, ., Irritable, bowel, syndrome]</td>\n",
       "      <td>9627</td>\n",
       "    </tr>\n",
       "    <tr>\n",
       "      <th>9628</th>\n",
       "      <td>2. Crohn's disease</td>\n",
       "      <td>False</td>\n",
       "      <td>NCT01373190</td>\n",
       "      <td>5</td>\n",
       "      <td>[2, ., Crohn, 's, disease]</td>\n",
       "      <td>9628</td>\n",
       "    </tr>\n",
       "    <tr>\n",
       "      <th>9629</th>\n",
       "      <td>3. Ulcerative colitis</td>\n",
       "      <td>False</td>\n",
       "      <td>NCT01373190</td>\n",
       "      <td>4</td>\n",
       "      <td>[3, ., Ulcerative, colitis]</td>\n",
       "      <td>9629</td>\n",
       "    </tr>\n",
       "    <tr>\n",
       "      <th>9630</th>\n",
       "      <td>4. Migraine headache with abdominal manifestation</td>\n",
       "      <td>False</td>\n",
       "      <td>NCT01373190</td>\n",
       "      <td>7</td>\n",
       "      <td>[4, ., Migraine, headache, with, abdominal, ma...</td>\n",
       "      <td>9630</td>\n",
       "    </tr>\n",
       "  </tbody>\n",
       "</table>\n",
       "</div>"
      ],
      "text/plain": [
       "                                               Criteria Include        NctId  \\\n",
       "9611  1. Diagnosis of Partial/Focal Onset Epilepsy (...    True  NCT01373190   \n",
       "9612                                      2. Ages 18-70    True  NCT01373190   \n",
       "9613                                       1. Pregnancy   False  NCT01373190   \n",
       "9614  2. Recent trauma such as motor vehicle acciden...   False  NCT01373190   \n",
       "9615  3. Currently on medication, other than for epi...   False  NCT01373190   \n",
       "9616  4. If diagnosed with a condition which could a...   False  NCT01373190   \n",
       "9617                        1. Irritable bowel syndrome   False  NCT01373190   \n",
       "9618                                 2. Crohn's disease   False  NCT01373190   \n",
       "9619                              3. Ulcerative colitis   False  NCT01373190   \n",
       "9620  4. Migraine headache with abdominal manifestation   False  NCT01373190   \n",
       "9621  1. No history or diagnosis of any seizure diso...    True  NCT01373190   \n",
       "9622                                      2. Ages 18-70    True  NCT01373190   \n",
       "9623                                       1. Pregnancy   False  NCT01373190   \n",
       "9624  2. Recent trauma such as motor vehicle acciden...   False  NCT01373190   \n",
       "9625  3. Currently on medication, other than for epi...   False  NCT01373190   \n",
       "9626  4. If diagnosed with a condition which could a...   False  NCT01373190   \n",
       "9627                        1. Irritable bowel syndrome   False  NCT01373190   \n",
       "9628                                 2. Crohn's disease   False  NCT01373190   \n",
       "9629                              3. Ulcerative colitis   False  NCT01373190   \n",
       "9630  4. Migraine headache with abdominal manifestation   False  NCT01373190   \n",
       "\n",
       "      TokenCount                                             Tokens  \\\n",
       "9611          13  [1, ., Diagnosis, of, Partial/Focal, Onset, Ep...   \n",
       "9612           4                                [2, ., Ages, 18-70]   \n",
       "9613           3                                  [1, ., Pregnancy]   \n",
       "9614          15  [2, ., Recent, trauma, such, as, motor, vehicl...   \n",
       "9615          22  [3, ., Currently, on, medication, ,, other, th...   \n",
       "9616          15  [4, ., If, diagnosed, with, a, condition, whic...   \n",
       "9617           5                 [1, ., Irritable, bowel, syndrome]   \n",
       "9618           5                         [2, ., Crohn, 's, disease]   \n",
       "9619           4                        [3, ., Ulcerative, colitis]   \n",
       "9620           7  [4, ., Migraine, headache, with, abdominal, ma...   \n",
       "9621          10  [1, ., No, history, or, diagnosis, of, any, se...   \n",
       "9622           4                                [2, ., Ages, 18-70]   \n",
       "9623           3                                  [1, ., Pregnancy]   \n",
       "9624          15  [2, ., Recent, trauma, such, as, motor, vehicl...   \n",
       "9625          22  [3, ., Currently, on, medication, ,, other, th...   \n",
       "9626          15  [4, ., If, diagnosed, with, a, condition, whic...   \n",
       "9627           5                 [1, ., Irritable, bowel, syndrome]   \n",
       "9628           5                         [2, ., Crohn, 's, disease]   \n",
       "9629           4                        [3, ., Ulcerative, colitis]   \n",
       "9630           7  [4, ., Migraine, headache, with, abdominal, ma...   \n",
       "\n",
       "      criteria_id  \n",
       "9611         9611  \n",
       "9612         9612  \n",
       "9613         9613  \n",
       "9614         9614  \n",
       "9615         9615  \n",
       "9616         9616  \n",
       "9617         9617  \n",
       "9618         9618  \n",
       "9619         9619  \n",
       "9620         9620  \n",
       "9621         9621  \n",
       "9622         9622  \n",
       "9623         9623  \n",
       "9624         9624  \n",
       "9625         9625  \n",
       "9626         9626  \n",
       "9627         9627  \n",
       "9628         9628  \n",
       "9629         9629  \n",
       "9630         9630  "
      ]
     },
     "execution_count": 12,
     "metadata": {},
     "output_type": "execute_result"
    }
   ],
   "source": [
    "criteria.loc[criteria['NctId'] == 'NCT01373190']"
   ]
  },
  {
   "cell_type": "markdown",
   "metadata": {},
   "source": [
    "# Tag, lemmatize, ngrammize\n",
    "\n",
    "Processes the extracted criteria with the NLTK POS tagger and lemmatizer and generates ngrams of 1-3 words (note: while unigrams are technically duplicated as 'Tokens', it will be more convenient to allow this and keep them in one column with bigrams and trigrams). Preprocesses the tokens by removing special characters and punctuation. Lemmata and ngrams are lowercased."
   ]
  },
  {
   "cell_type": "code",
   "execution_count": 13,
   "metadata": {
    "collapsed": true
   },
   "outputs": [],
   "source": [
    "def __lemmatise(lemmatizer, r):\n",
    "    wn_tags = {'NN': nltk.corpus.wordnet.NOUN, 'JJ': nltk.corpus.wordnet.ADJ, 'VB': nltk.corpus.wordnet.VERB,\n",
    "               'RB': nltk.corpus.wordnet.ADV}\n",
    "    return [(t[0], lemmatizer.lemmatize(t[0].lower(), pos=wn_tags.get(t[1][:2], nltk.corpus.wordnet.NOUN)).lower()) for\n",
    "            t in r]\n",
    "\n",
    "\n",
    "def tag_and_stem(data):\n",
    "    print(\"Transforming data (tagging and lemmatising)\")\n",
    "    series = []\n",
    "    lemmatizer = nltk.stem.WordNetLemmatizer()\n",
    "    punct = '[%s]*' % re.escape(string.punctuation)\n",
    "    pat = re.compile(r\"^(%(p)s[\\w\\d]+%(p)s)+$\" % {'p': punct}, re.UNICODE)\n",
    "    # Itertuples is 50% faster than df.apply()\n",
    "    for row in progressbar(data[['NctId', 'Tokens', 'criteria_id']].itertuples(), total=data.shape[0]):\n",
    "        nct_id = row[1]\n",
    "        toks = filter(lambda t: re.match(pat, t), row[2])\n",
    "        cri_id = row[3]\n",
    "        tags = nltk.pos_tag(toks)\n",
    "        lemmas = __lemmatise(lemmatizer, tags)\n",
    "        ngrams = []\n",
    "        for n in (1, 2, 3):\n",
    "            ngrams += list(nltk.ngrams([(lemma[1], tags[idx][1]) for idx, lemma in enumerate(lemmas)], n))\n",
    "        s = {'criteria_id': cri_id, 'NctId': nct_id, 'Tokens': toks, 'Tags': tags, 'Lemmas': lemmas, 'Ngrams': ngrams}\n",
    "        series.append(s)\n",
    "    df = pd.DataFrame(series)\n",
    "    return df"
   ]
  },
  {
   "cell_type": "markdown",
   "metadata": {},
   "source": [
    "Read in the extracted criteria (stored in \"ct_criteria.pckl\" in the previous step), tag, lemmatize and ngrammize the data and store it as \"ct_tagged.pckl\"."
   ]
  },
  {
   "cell_type": "code",
   "execution_count": 14,
   "metadata": {
    "collapsed": false
   },
   "outputs": [
    {
     "name": "stderr",
     "output_type": "stream",
     "text": [
      "                                                                                                                                                               "
     ]
    },
    {
     "name": "stdout",
     "output_type": "stream",
     "text": [
      "Transforming data (tagging and lemmatising)\n"
     ]
    },
    {
     "name": "stderr",
     "output_type": "stream",
     "text": [
      "\r"
     ]
    }
   ],
   "source": [
    "data_dir = __mkdir(working_dir, \"data\")\n",
    "\n",
    "criteria = pd.read_pickle(os.path.join(data_dir, 'ct_criteria.pckl'))\n",
    "tagged = tag_and_stem(criteria)\n",
    "tagged.to_pickle(os.path.join(data_dir, 'ct_tagged.pckl'))"
   ]
  },
  {
   "cell_type": "code",
   "execution_count": 15,
   "metadata": {
    "collapsed": false
   },
   "outputs": [
    {
     "data": {
      "text/html": [
       "<div>\n",
       "<table border=\"1\" class=\"dataframe\">\n",
       "  <thead>\n",
       "    <tr style=\"text-align: right;\">\n",
       "      <th></th>\n",
       "      <th>Lemmas</th>\n",
       "      <th>NctId</th>\n",
       "      <th>Ngrams</th>\n",
       "      <th>Tags</th>\n",
       "      <th>Tokens</th>\n",
       "      <th>criteria_id</th>\n",
       "    </tr>\n",
       "  </thead>\n",
       "  <tbody>\n",
       "    <tr>\n",
       "      <th>0</th>\n",
       "      <td>[(History, history), (of, of), (uncontrolled, ...</td>\n",
       "      <td>NCT00001149</td>\n",
       "      <td>[((history, NN),), ((of, IN),), ((uncontrolled...</td>\n",
       "      <td>[(History, NN), (of, IN), (uncontrolled, VBN),...</td>\n",
       "      <td>[History, of, uncontrolled, seizures, at, the,...</td>\n",
       "      <td>0</td>\n",
       "    </tr>\n",
       "    <tr>\n",
       "      <th>1</th>\n",
       "      <td>[(Seizure, seizure), (frequency, frequency), (...</td>\n",
       "      <td>NCT00001149</td>\n",
       "      <td>[((seizure, NN),), ((frequency, NN),), ((by, I...</td>\n",
       "      <td>[(Seizure, NN), (frequency, NN), (by, IN), (hi...</td>\n",
       "      <td>[Seizure, frequency, by, history, must, be, su...</td>\n",
       "      <td>1</td>\n",
       "    </tr>\n",
       "    <tr>\n",
       "      <th>2</th>\n",
       "      <td>[(Patients, patient), (of, of), (any, any), (a...</td>\n",
       "      <td>NCT00001149</td>\n",
       "      <td>[((patient, NNS),), ((of, IN),), ((any, DT),),...</td>\n",
       "      <td>[(Patients, NNS), (of, IN), (any, DT), (age, N...</td>\n",
       "      <td>[Patients, of, any, age, may, be, accepted]</td>\n",
       "      <td>2</td>\n",
       "    </tr>\n",
       "    <tr>\n",
       "      <th>3</th>\n",
       "      <td>[(Patients, patient), (and, and), (parents, pa...</td>\n",
       "      <td>NCT00001149</td>\n",
       "      <td>[((patient, NNS),), ((and, CC),), ((parent, NN...</td>\n",
       "      <td>[(Patients, NNS), (and, CC), (parents, NNS), (...</td>\n",
       "      <td>[Patients, and, parents, or, guardians, if, ap...</td>\n",
       "      <td>3</td>\n",
       "    </tr>\n",
       "    <tr>\n",
       "      <th>4</th>\n",
       "      <td>[(Patients, patient)]</td>\n",
       "      <td>NCT00001192</td>\n",
       "      <td>[((patient, NNS),)]</td>\n",
       "      <td>[(Patients, NNS)]</td>\n",
       "      <td>[Patients]</td>\n",
       "      <td>4</td>\n",
       "    </tr>\n",
       "  </tbody>\n",
       "</table>\n",
       "</div>"
      ],
      "text/plain": [
       "                                              Lemmas        NctId  \\\n",
       "0  [(History, history), (of, of), (uncontrolled, ...  NCT00001149   \n",
       "1  [(Seizure, seizure), (frequency, frequency), (...  NCT00001149   \n",
       "2  [(Patients, patient), (of, of), (any, any), (a...  NCT00001149   \n",
       "3  [(Patients, patient), (and, and), (parents, pa...  NCT00001149   \n",
       "4                              [(Patients, patient)]  NCT00001192   \n",
       "\n",
       "                                              Ngrams  \\\n",
       "0  [((history, NN),), ((of, IN),), ((uncontrolled...   \n",
       "1  [((seizure, NN),), ((frequency, NN),), ((by, I...   \n",
       "2  [((patient, NNS),), ((of, IN),), ((any, DT),),...   \n",
       "3  [((patient, NNS),), ((and, CC),), ((parent, NN...   \n",
       "4                                [((patient, NNS),)]   \n",
       "\n",
       "                                                Tags  \\\n",
       "0  [(History, NN), (of, IN), (uncontrolled, VBN),...   \n",
       "1  [(Seizure, NN), (frequency, NN), (by, IN), (hi...   \n",
       "2  [(Patients, NNS), (of, IN), (any, DT), (age, N...   \n",
       "3  [(Patients, NNS), (and, CC), (parents, NNS), (...   \n",
       "4                                  [(Patients, NNS)]   \n",
       "\n",
       "                                              Tokens  criteria_id  \n",
       "0  [History, of, uncontrolled, seizures, at, the,...            0  \n",
       "1  [Seizure, frequency, by, history, must, be, su...            1  \n",
       "2        [Patients, of, any, age, may, be, accepted]            2  \n",
       "3  [Patients, and, parents, or, guardians, if, ap...            3  \n",
       "4                                         [Patients]            4  "
      ]
     },
     "execution_count": 15,
     "metadata": {},
     "output_type": "execute_result"
    }
   ],
   "source": [
    "tagged = pd.read_pickle(os.path.join(data_dir, 'ct_tagged.pckl'))\n",
    "tagged.head()"
   ]
  },
  {
   "cell_type": "markdown",
   "metadata": {},
   "source": [
    "# Filter criteria\n",
    "Filters out criteria composed entirely of function words and stopwords. Strips ngrams composed entirely of stop words/tags from the ngram list. By default this function uses the NTLK stopword list and all PTB tags except nouns. Additional lists of stop words and stop tags can be supplied with keyword arguments (\"stop_words\", \"stop_tags\"). Returns a tuple of dataframes, (filtered_criteria, excluded_criteria).\n",
    "\n",
    "(Note: this step generates a SettingWithCopyWarning. This is known and is a false positive.)"
   ]
  },
  {
   "cell_type": "code",
   "execution_count": 16,
   "metadata": {
    "collapsed": true
   },
   "outputs": [],
   "source": [
    "def __filter(values, idx, stops):\n",
    "    return not set([t[idx] for t in values]) <= stops\n",
    "\n",
    "\n",
    "def filter_criteria(data, user_stop_words=[], user_stop_tags=[]):\n",
    "    print(\"Filtering criteria\")\n",
    "    default_stop_words = nltk.corpus.stopwords.words('english')\n",
    "    default_stop_tags = [\"$\", \"''\", \"(\", \")\", \",\", \"--\", \".\", \":\", \"CC\", \"CD\", \"DT\",\n",
    "                         \"EX\", \"FW\", \"IN\", \"JJ\", \"JJR\", \"JJS\", \"LS\", \"MD\",\n",
    "                         \"PDT\", \"POS\", \"PRP\", \"PRP$\", \"RB\", \"RBR\", \"RBS\", \"RP\",\n",
    "                         \"SYM\", \"TO\", \"UH\", \"VB\", \"VBD\", \"VBG\", \"VBN\", \"VBP\", \"VBZ\",\n",
    "                         \"WDT\", \"WP\", \"WP$\", \"WRB\", \"``\"]\n",
    "    print(\"Filtering stops\")\n",
    "    stop_words = set(default_stop_words + user_stop_words)\n",
    "    stop_tags = set(default_stop_tags + user_stop_tags)\n",
    "    excluded = pd.DataFrame()\n",
    "    for col, idx, stops in (\n",
    "            ('Lemmas', 0, stop_words),\n",
    "            ('Tags', 1, stop_tags)):  # Lemma filtering excludes 18 rows, tag filtering excludes 205\n",
    "        data['Ngrams'] = data['Ngrams'].apply(lambda row: [ngram for ngram in row if __filter(ngram, idx, stops)])\n",
    "        groups = data.groupby(lambda r: __filter(data[col].loc[r], 1, stops))\n",
    "        data = groups.get_group(True)\n",
    "        excluded = excluded.append(groups.get_group(False)) if groups.groups.has_key(False) else excluded\n",
    "    return (data, excluded)"
   ]
  },
  {
   "cell_type": "markdown",
   "metadata": {},
   "source": [
    "Read in the tagged criteria (stored in \"ct_tagged.pckl\" in the previous step), filter out noise and write the results to \"ct_filtered.pckl\" (the included criteria) and \"ct_excluded.pckl\" (the excluded criteria)."
   ]
  },
  {
   "cell_type": "code",
   "execution_count": 17,
   "metadata": {
    "collapsed": false
   },
   "outputs": [
    {
     "name": "stdout",
     "output_type": "stream",
     "text": [
      "Filtering criteria\n",
      "Filtering stops\n"
     ]
    },
    {
     "name": "stderr",
     "output_type": "stream",
     "text": [
      "C:\\Anaconda\\lib\\site-packages\\IPython\\kernel\\__main__.py:20: SettingWithCopyWarning: \n",
      "A value is trying to be set on a copy of a slice from a DataFrame.\n",
      "Try using .loc[row_indexer,col_indexer] = value instead\n",
      "\n",
      "See the caveats in the documentation: http://pandas.pydata.org/pandas-docs/stable/indexing.html#indexing-view-versus-copy\n"
     ]
    }
   ],
   "source": [
    "data_dir = __mkdir(working_dir, \"data\")\n",
    "\n",
    "criteria = pd.read_pickle(os.path.join(data_dir, 'ct_tagged.pckl'))\n",
    "incl, excl = filter_criteria(criteria)\n",
    "incl.to_pickle(os.path.join(data_dir, 'ct_filtered.pckl'))\n",
    "excl.to_pickle(os.path.join(data_dir, 'ct_excluded.pckl'))"
   ]
  },
  {
   "cell_type": "markdown",
   "metadata": {},
   "source": [
    "### Remove ngram duplicates"
   ]
  },
  {
   "cell_type": "code",
   "execution_count": 8,
   "metadata": {
    "collapsed": false
   },
   "outputs": [
    {
     "data": {
      "text/html": [
       "<div>\n",
       "<table border=\"1\" class=\"dataframe\">\n",
       "  <thead>\n",
       "    <tr style=\"text-align: right;\">\n",
       "      <th></th>\n",
       "      <th>Lemmas</th>\n",
       "      <th>NctId</th>\n",
       "      <th>Ngrams</th>\n",
       "      <th>Tags</th>\n",
       "      <th>Tokens</th>\n",
       "      <th>criteria_id</th>\n",
       "    </tr>\n",
       "  </thead>\n",
       "  <tbody>\n",
       "    <tr>\n",
       "      <th>0</th>\n",
       "      <td>[(History, history), (of, of), (uncontrolled, ...</td>\n",
       "      <td>NCT00001149</td>\n",
       "      <td>[((time, NN),), ((prior, RB), (to, TO), (admis...</td>\n",
       "      <td>[(History, NN), (of, IN), (uncontrolled, VBN),...</td>\n",
       "      <td>[History, of, uncontrolled, seizures, at, the,...</td>\n",
       "      <td>0</td>\n",
       "    </tr>\n",
       "    <tr>\n",
       "      <th>1</th>\n",
       "      <td>[(Seizure, seizure), (frequency, frequency), (...</td>\n",
       "      <td>NCT00001149</td>\n",
       "      <td>[((frequency, NN), (by, IN)), ((video, NN),), ...</td>\n",
       "      <td>[(Seizure, NN), (frequency, NN), (by, IN), (hi...</td>\n",
       "      <td>[Seizure, frequency, by, history, must, be, su...</td>\n",
       "      <td>1</td>\n",
       "    </tr>\n",
       "    <tr>\n",
       "      <th>2</th>\n",
       "      <td>[(Patients, patient), (of, of), (any, any), (a...</td>\n",
       "      <td>NCT00001149</td>\n",
       "      <td>[((patient, NNS), (of, IN)), ((any, DT), (age,...</td>\n",
       "      <td>[(Patients, NNS), (of, IN), (any, DT), (age, N...</td>\n",
       "      <td>[Patients, of, any, age, may, be, accepted]</td>\n",
       "      <td>2</td>\n",
       "    </tr>\n",
       "    <tr>\n",
       "      <th>3</th>\n",
       "      <td>[(Patients, patient), (and, and), (parents, pa...</td>\n",
       "      <td>NCT00001149</td>\n",
       "      <td>[((express, NN), (willingness, NN), (to, TO)),...</td>\n",
       "      <td>[(Patients, NNS), (and, CC), (parents, NNS), (...</td>\n",
       "      <td>[Patients, and, parents, or, guardians, if, ap...</td>\n",
       "      <td>3</td>\n",
       "    </tr>\n",
       "    <tr>\n",
       "      <th>4</th>\n",
       "      <td>[(Patients, patient)]</td>\n",
       "      <td>NCT00001192</td>\n",
       "      <td>[((patient, NNS),)]</td>\n",
       "      <td>[(Patients, NNS)]</td>\n",
       "      <td>[Patients]</td>\n",
       "      <td>4</td>\n",
       "    </tr>\n",
       "  </tbody>\n",
       "</table>\n",
       "</div>"
      ],
      "text/plain": [
       "                                              Lemmas        NctId  \\\n",
       "0  [(History, history), (of, of), (uncontrolled, ...  NCT00001149   \n",
       "1  [(Seizure, seizure), (frequency, frequency), (...  NCT00001149   \n",
       "2  [(Patients, patient), (of, of), (any, any), (a...  NCT00001149   \n",
       "3  [(Patients, patient), (and, and), (parents, pa...  NCT00001149   \n",
       "4                              [(Patients, patient)]  NCT00001192   \n",
       "\n",
       "                                              Ngrams  \\\n",
       "0  [((time, NN),), ((prior, RB), (to, TO), (admis...   \n",
       "1  [((frequency, NN), (by, IN)), ((video, NN),), ...   \n",
       "2  [((patient, NNS), (of, IN)), ((any, DT), (age,...   \n",
       "3  [((express, NN), (willingness, NN), (to, TO)),...   \n",
       "4                                [((patient, NNS),)]   \n",
       "\n",
       "                                                Tags  \\\n",
       "0  [(History, NN), (of, IN), (uncontrolled, VBN),...   \n",
       "1  [(Seizure, NN), (frequency, NN), (by, IN), (hi...   \n",
       "2  [(Patients, NNS), (of, IN), (any, DT), (age, N...   \n",
       "3  [(Patients, NNS), (and, CC), (parents, NNS), (...   \n",
       "4                                  [(Patients, NNS)]   \n",
       "\n",
       "                                              Tokens  criteria_id  \n",
       "0  [History, of, uncontrolled, seizures, at, the,...            0  \n",
       "1  [Seizure, frequency, by, history, must, be, su...            1  \n",
       "2        [Patients, of, any, age, may, be, accepted]            2  \n",
       "3  [Patients, and, parents, or, guardians, if, ap...            3  \n",
       "4                                         [Patients]            4  "
      ]
     },
     "execution_count": 8,
     "metadata": {},
     "output_type": "execute_result"
    }
   ],
   "source": [
    "data_dir = __mkdir(working_dir, \"data\")\n",
    "incl = pd.read_pickle(os.path.join(data_dir, 'ct_filtered.pckl'))\n",
    "incl['Ngrams'] = incl['Ngrams'].apply(lambda ngrams: list(set(ngrams)))\n",
    "incl.to_pickle(os.path.join(data_dir, 'ct_filtered.pckl'))\n",
    "incl.head()"
   ]
  },
  {
   "cell_type": "code",
   "execution_count": 9,
   "metadata": {
    "collapsed": false
   },
   "outputs": [
    {
     "data": {
      "text/html": [
       "<div>\n",
       "<table border=\"1\" class=\"dataframe\">\n",
       "  <thead>\n",
       "    <tr style=\"text-align: right;\">\n",
       "      <th></th>\n",
       "      <th>Lemmas</th>\n",
       "      <th>NctId</th>\n",
       "      <th>Ngrams</th>\n",
       "      <th>Tags</th>\n",
       "      <th>Tokens</th>\n",
       "      <th>criteria_id</th>\n",
       "    </tr>\n",
       "  </thead>\n",
       "  <tbody>\n",
       "    <tr>\n",
       "      <th>149</th>\n",
       "      <td>[(Other, other)]</td>\n",
       "      <td>NCT00004399</td>\n",
       "      <td>[]</td>\n",
       "      <td>[(Other, JJ)]</td>\n",
       "      <td>[Other]</td>\n",
       "      <td>149</td>\n",
       "    </tr>\n",
       "    <tr>\n",
       "      <th>610</th>\n",
       "      <td>[(Other, other)]</td>\n",
       "      <td>NCT00047073</td>\n",
       "      <td>[]</td>\n",
       "      <td>[(Other, JJ)]</td>\n",
       "      <td>[Other]</td>\n",
       "      <td>610</td>\n",
       "    </tr>\n",
       "    <tr>\n",
       "      <th>636</th>\n",
       "      <td>[(Other, other)]</td>\n",
       "      <td>NCT00047073</td>\n",
       "      <td>[]</td>\n",
       "      <td>[(Other, JJ)]</td>\n",
       "      <td>[Other]</td>\n",
       "      <td>636</td>\n",
       "    </tr>\n",
       "    <tr>\n",
       "      <th>959</th>\n",
       "      <td>[(Other, other)]</td>\n",
       "      <td>NCT00068770</td>\n",
       "      <td>[]</td>\n",
       "      <td>[(Other, JJ)]</td>\n",
       "      <td>[Other]</td>\n",
       "      <td>959</td>\n",
       "    </tr>\n",
       "    <tr>\n",
       "      <th>993</th>\n",
       "      <td>[(Other, other)]</td>\n",
       "      <td>NCT00068770</td>\n",
       "      <td>[]</td>\n",
       "      <td>[(Other, JJ)]</td>\n",
       "      <td>[Other]</td>\n",
       "      <td>993</td>\n",
       "    </tr>\n",
       "  </tbody>\n",
       "</table>\n",
       "</div>"
      ],
      "text/plain": [
       "               Lemmas        NctId Ngrams           Tags   Tokens  criteria_id\n",
       "149  [(Other, other)]  NCT00004399     []  [(Other, JJ)]  [Other]          149\n",
       "610  [(Other, other)]  NCT00047073     []  [(Other, JJ)]  [Other]          610\n",
       "636  [(Other, other)]  NCT00047073     []  [(Other, JJ)]  [Other]          636\n",
       "959  [(Other, other)]  NCT00068770     []  [(Other, JJ)]  [Other]          959\n",
       "993  [(Other, other)]  NCT00068770     []  [(Other, JJ)]  [Other]          993"
      ]
     },
     "execution_count": 9,
     "metadata": {},
     "output_type": "execute_result"
    }
   ],
   "source": [
    "excl = pd.read_pickle(os.path.join(data_dir, 'ct_excluded.pckl'))\n",
    "excl.head()"
   ]
  },
  {
   "cell_type": "code",
   "execution_count": null,
   "metadata": {
    "collapsed": true
   },
   "outputs": [],
   "source": []
  }
 ],
 "metadata": {
  "kernelspec": {
   "display_name": "Python 2",
   "language": "python",
   "name": "python2"
  },
  "language_info": {
   "codemirror_mode": {
    "name": "ipython",
    "version": 2
   },
   "file_extension": ".py",
   "mimetype": "text/x-python",
   "name": "python",
   "nbconvert_exporter": "python",
   "pygments_lexer": "ipython2",
   "version": "2.7.10"
  }
 },
 "nbformat": 4,
 "nbformat_minor": 0
}
