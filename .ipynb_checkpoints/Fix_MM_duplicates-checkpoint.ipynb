{
 "cells": [
  {
   "cell_type": "code",
   "execution_count": 2,
   "metadata": {
    "collapsed": true
   },
   "outputs": [],
   "source": [
    "import os\n",
    "import pandas as pd"
   ]
  },
  {
   "cell_type": "code",
   "execution_count": 3,
   "metadata": {
    "collapsed": true
   },
   "outputs": [],
   "source": [
    "def __mkdir(*args):\n",
    "    path = os.path.join(*args)\n",
    "    try: \n",
    "        os.makedirs(path)\n",
    "    except OSError:\n",
    "        if not os.path.isdir(path):\n",
    "            raise\n",
    "    return path\n",
    "\n",
    "def extend_with_ngrams(mm_df, incl_df):\n",
    "    ngrams = []\n",
    "    for row in mm_df[['criteria_id', 'ngram_index']].itertuples():\n",
    "        cri_id = row[1]\n",
    "        ngrami = row[2]\n",
    "        ngram = incl_df[incl_df['criteria_id'] == cri_id]['Ngrams'].values[0][ngrami]\n",
    "        ngrams.append(ngram)\n",
    "    mm_df.insert(0, 'ngram', ngrams)\n",
    "    return mm_df"
   ]
  },
  {
   "cell_type": "markdown",
   "metadata": {},
   "source": [
    "## Set working directory here if different from directory of the ipython notebook"
   ]
  },
  {
   "cell_type": "code",
   "execution_count": 4,
   "metadata": {
    "collapsed": true
   },
   "outputs": [],
   "source": [
    "# Set working directory as the current directory of the ipython notebook\n",
    "working_dir = os.getcwd()\n",
    "\n",
    "print(\"Working directory: %s\" % working_dir)\n",
    "\n"
   ]
  },
  {
   "cell_type": "code",
   "execution_count": 6,
   "metadata": {
    "collapsed": false
   },
   "outputs": [
    {
     "data": {
      "text/html": [
       "<div>\n",
       "<table border=\"1\" class=\"dataframe\">\n",
       "  <thead>\n",
       "    <tr style=\"text-align: right;\">\n",
       "      <th></th>\n",
       "      <th>ngram</th>\n",
       "      <th>nct_id</th>\n",
       "      <th>criteria_id</th>\n",
       "      <th>ngram_index</th>\n",
       "      <th>score</th>\n",
       "      <th>term</th>\n",
       "      <th>cui</th>\n",
       "      <th>stype</th>\n",
       "      <th>cid</th>\n",
       "    </tr>\n",
       "  </thead>\n",
       "  <tbody>\n",
       "    <tr>\n",
       "      <th>0</th>\n",
       "      <td>((time, NN),)</td>\n",
       "      <td>NCT00001149</td>\n",
       "      <td>0</td>\n",
       "      <td>0</td>\n",
       "      <td>8.34</td>\n",
       "      <td>Time</td>\n",
       "      <td>C0040223</td>\n",
       "      <td>tmco</td>\n",
       "      <td>[G01.910]</td>\n",
       "    </tr>\n",
       "    <tr>\n",
       "      <th>1</th>\n",
       "      <td>((uncontrolled, VBN), (seizure, NNS), (at, IN))</td>\n",
       "      <td>NCT00001149</td>\n",
       "      <td>0</td>\n",
       "      <td>8</td>\n",
       "      <td>16.21</td>\n",
       "      <td>Seizures</td>\n",
       "      <td>C0036572</td>\n",
       "      <td>sosy</td>\n",
       "      <td>[C10.228.140.490.631, C10.597.742, C23.888.592...</td>\n",
       "    </tr>\n",
       "    <tr>\n",
       "      <th>2</th>\n",
       "      <td>((of, IN), (seizure, NNS), (during, IN))</td>\n",
       "      <td>NCT00001149</td>\n",
       "      <td>0</td>\n",
       "      <td>10</td>\n",
       "      <td>16.21</td>\n",
       "      <td>Seizures</td>\n",
       "      <td>C0036572</td>\n",
       "      <td>sosy</td>\n",
       "      <td>[C10.228.140.490.631, C10.597.742, C23.888.592...</td>\n",
       "    </tr>\n",
       "    <tr>\n",
       "      <th>3</th>\n",
       "      <td>((seizure, NNS), (at, IN), (the, DT))</td>\n",
       "      <td>NCT00001149</td>\n",
       "      <td>0</td>\n",
       "      <td>11</td>\n",
       "      <td>16.21</td>\n",
       "      <td>Seizures</td>\n",
       "      <td>C0036572</td>\n",
       "      <td>sosy</td>\n",
       "      <td>[C10.228.140.490.631, C10.597.742, C23.888.592...</td>\n",
       "    </tr>\n",
       "    <tr>\n",
       "      <th>4</th>\n",
       "      <td>((pattern, NN), (of, IN), (seizure, NNS))</td>\n",
       "      <td>NCT00001149</td>\n",
       "      <td>0</td>\n",
       "      <td>12</td>\n",
       "      <td>16.07</td>\n",
       "      <td>Seizures</td>\n",
       "      <td>C0036572</td>\n",
       "      <td>sosy</td>\n",
       "      <td>[C10.228.140.490.631, C10.597.742, C23.888.592...</td>\n",
       "    </tr>\n",
       "  </tbody>\n",
       "</table>\n",
       "</div>"
      ],
      "text/plain": [
       "                                             ngram       nct_id  criteria_id  \\\n",
       "0                                    ((time, NN),)  NCT00001149            0   \n",
       "1  ((uncontrolled, VBN), (seizure, NNS), (at, IN))  NCT00001149            0   \n",
       "2         ((of, IN), (seizure, NNS), (during, IN))  NCT00001149            0   \n",
       "3            ((seizure, NNS), (at, IN), (the, DT))  NCT00001149            0   \n",
       "4        ((pattern, NN), (of, IN), (seizure, NNS))  NCT00001149            0   \n",
       "\n",
       "   ngram_index  score      term       cui stype  \\\n",
       "0            0   8.34      Time  C0040223  tmco   \n",
       "1            8  16.21  Seizures  C0036572  sosy   \n",
       "2           10  16.21  Seizures  C0036572  sosy   \n",
       "3           11  16.21  Seizures  C0036572  sosy   \n",
       "4           12  16.07  Seizures  C0036572  sosy   \n",
       "\n",
       "                                                 cid  \n",
       "0                                          [G01.910]  \n",
       "1  [C10.228.140.490.631, C10.597.742, C23.888.592...  \n",
       "2  [C10.228.140.490.631, C10.597.742, C23.888.592...  \n",
       "3  [C10.228.140.490.631, C10.597.742, C23.888.592...  \n",
       "4  [C10.228.140.490.631, C10.597.742, C23.888.592...  "
      ]
     },
     "execution_count": 6,
     "metadata": {},
     "output_type": "execute_result"
    }
   ],
   "source": [
    "data_dir = __mkdir(working_dir, \"data\")\n",
    "mm = pd.read_pickle(os.path.join(data_dir, 'mm.pckl'))\n",
    "incl = pd.read_pickle(os.path.join(data_dir, 'ct_filtered.pckl'))\n",
    "\n",
    "mm = extend_with_ngrams(mm, incl) # get corresponding ngrams for mm rows\n",
    "mm = mm.drop_duplicates('ngram') # drop mm results for ngram duplicates \n",
    "\n",
    "mm.head()"
   ]
  },
  {
   "cell_type": "code",
   "execution_count": null,
   "metadata": {
    "collapsed": true
   },
   "outputs": [],
   "source": []
  }
 ],
 "metadata": {
  "kernelspec": {
   "display_name": "Python 2",
   "language": "python",
   "name": "python2"
  },
  "language_info": {
   "codemirror_mode": {
    "name": "ipython",
    "version": 2
   },
   "file_extension": ".py",
   "mimetype": "text/x-python",
   "name": "python",
   "nbconvert_exporter": "python",
   "pygments_lexer": "ipython2",
   "version": "2.7.10"
  }
 },
 "nbformat": 4,
 "nbformat_minor": 0
}
