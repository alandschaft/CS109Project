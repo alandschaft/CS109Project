{
 "cells": [
  {
   "cell_type": "markdown",
   "metadata": {},
   "source": [
    "# Initial setup\n",
    "\n",
    "Let's import the required libraries and set up global variables for the rest of the script."
   ]
  },
  {
   "cell_type": "code",
   "execution_count": 1,
   "metadata": {
    "collapsed": false
   },
   "outputs": [
    {
     "name": "stdout",
     "output_type": "stream",
     "text": [
      "Requirement already satisfied (use --upgrade to upgrade): tqdm in /anaconda/lib/python2.7/site-packages\r\n"
     ]
    }
   ],
   "source": [
    "# coding: utf-8\n",
    "!pip install tqdm\n",
    "import csv\n",
    "import os\n",
    "import re\n",
    "import shutil\n",
    "import string\n",
    "import zipfile\n",
    "import sys\n",
    "from collections import defaultdict\n",
    "from lxml import objectify\n",
    "import codecs\n",
    "import nltk\n",
    "import pandas as pd\n",
    "import requests\n",
    "import tarfile\n",
    "import subprocess\n",
    "import platform\n",
    "import time\n",
    "from tqdm import tqdm as progressbar # pandas df usage: 'for row in progressbar(df.itertuples(), total=df.shape[0])'\n",
    "\n",
    "import glob"
   ]
  },
  {
   "cell_type": "markdown",
   "metadata": {},
   "source": [
    "Helper function to create a directory under the specified path, gracefully handling errors."
   ]
  },
  {
   "cell_type": "code",
   "execution_count": 2,
   "metadata": {
    "collapsed": false
   },
   "outputs": [],
   "source": [
    "def __mkdir(*args):\n",
    "    path = os.path.join(*args)\n",
    "    try: \n",
    "        os.makedirs(path)\n",
    "    except OSError:\n",
    "        if not os.path.isdir(path):\n",
    "            raise\n",
    "    return path"
   ]
  },
  {
   "cell_type": "code",
   "execution_count": 3,
   "metadata": {
    "collapsed": false
   },
   "outputs": [
    {
     "name": "stdout",
     "output_type": "stream",
     "text": [
      "Working directory: /Users/Lo/Work/CS109Project\n"
     ]
    }
   ],
   "source": [
    "# Create the project directory holding the downloaded data, serialized dataframes and MetaMap install.\n",
    "# working_dir = __mkdir(os.path.expanduser(\"~\"), \"Medframes\")\n",
    "\n",
    "# Set working directory as the current directory of the ipython notebook\n",
    "working_dir = os.getcwd()\n",
    "data_dir = __mkdir(working_dir, \"data\")\n",
    "print(\"Working directory: %s\" % working_dir)"
   ]
  },
  {
   "cell_type": "markdown",
   "metadata": {},
   "source": [
    "# Load MetaMap & MedEx processing results"
   ]
  },
  {
   "cell_type": "code",
   "execution_count": 15,
   "metadata": {
    "collapsed": false
   },
   "outputs": [
    {
     "data": {
      "text/html": [
       "<div>\n",
       "<table border=\"1\" class=\"dataframe\">\n",
       "  <thead>\n",
       "    <tr style=\"text-align: right;\">\n",
       "      <th></th>\n",
       "      <th>nct_id</th>\n",
       "      <th>criteria_id</th>\n",
       "      <th>ngram_index</th>\n",
       "      <th>score</th>\n",
       "      <th>term</th>\n",
       "      <th>cui</th>\n",
       "      <th>stype</th>\n",
       "      <th>cid</th>\n",
       "    </tr>\n",
       "  </thead>\n",
       "  <tbody>\n",
       "    <tr>\n",
       "      <th>0</th>\n",
       "      <td>NCT00001149</td>\n",
       "      <td>0</td>\n",
       "      <td>0</td>\n",
       "      <td>11.49</td>\n",
       "      <td>Historical aspects qualifier</td>\n",
       "      <td>C0019665</td>\n",
       "      <td>inpr</td>\n",
       "      <td>[x.x.x]</td>\n",
       "    </tr>\n",
       "    <tr>\n",
       "      <th>1</th>\n",
       "      <td>NCT00001149</td>\n",
       "      <td>0</td>\n",
       "      <td>0</td>\n",
       "      <td>8.34</td>\n",
       "      <td>History</td>\n",
       "      <td>C0019664</td>\n",
       "      <td>ocdi</td>\n",
       "      <td>[K01.400]</td>\n",
       "    </tr>\n",
       "    <tr>\n",
       "      <th>2</th>\n",
       "      <td>NCT00001149</td>\n",
       "      <td>0</td>\n",
       "      <td>1</td>\n",
       "      <td>17.80</td>\n",
       "      <td>Seizures</td>\n",
       "      <td>C0036572</td>\n",
       "      <td>sosy</td>\n",
       "      <td>[C10.228.140.490.631, C10.597.742, C23.888.592...</td>\n",
       "    </tr>\n",
       "    <tr>\n",
       "      <th>3</th>\n",
       "      <td>NCT00001149</td>\n",
       "      <td>0</td>\n",
       "      <td>3</td>\n",
       "      <td>8.34</td>\n",
       "      <td>Time</td>\n",
       "      <td>C0040223</td>\n",
       "      <td>tmco</td>\n",
       "      <td>[G01.910]</td>\n",
       "    </tr>\n",
       "    <tr>\n",
       "      <th>4</th>\n",
       "      <td>NCT00001149</td>\n",
       "      <td>0</td>\n",
       "      <td>7</td>\n",
       "      <td>17.80</td>\n",
       "      <td>Seizures</td>\n",
       "      <td>C0036572</td>\n",
       "      <td>sosy</td>\n",
       "      <td>[C10.228.140.490.631, C10.597.742, C23.888.592...</td>\n",
       "    </tr>\n",
       "  </tbody>\n",
       "</table>\n",
       "</div>"
      ],
      "text/plain": [
       "        nct_id  criteria_id  ngram_index  score                          term  \\\n",
       "0  NCT00001149            0            0  11.49  Historical aspects qualifier   \n",
       "1  NCT00001149            0            0   8.34                       History   \n",
       "2  NCT00001149            0            1  17.80                      Seizures   \n",
       "3  NCT00001149            0            3   8.34                          Time   \n",
       "4  NCT00001149            0            7  17.80                      Seizures   \n",
       "\n",
       "        cui stype                                                cid  \n",
       "0  C0019665  inpr                                            [x.x.x]  \n",
       "1  C0019664  ocdi                                          [K01.400]  \n",
       "2  C0036572  sosy  [C10.228.140.490.631, C10.597.742, C23.888.592...  \n",
       "3  C0040223  tmco                                          [G01.910]  \n",
       "4  C0036572  sosy  [C10.228.140.490.631, C10.597.742, C23.888.592...  "
      ]
     },
     "execution_count": 15,
     "metadata": {},
     "output_type": "execute_result"
    }
   ],
   "source": [
    "mm = pd.read_pickle(os.path.join(data_dir, 'mm.pckl'))\n",
    "mm.head()"
   ]
  },
  {
   "cell_type": "code",
   "execution_count": 5,
   "metadata": {
    "collapsed": false
   },
   "outputs": [
    {
     "data": {
      "text/html": [
       "<div>\n",
       "<table border=\"1\" class=\"dataframe\">\n",
       "  <thead>\n",
       "    <tr style=\"text-align: right;\">\n",
       "      <th></th>\n",
       "      <th>Lemmas</th>\n",
       "      <th>NctId</th>\n",
       "      <th>Ngrams</th>\n",
       "      <th>Tags</th>\n",
       "      <th>Tokens</th>\n",
       "      <th>criteria_id</th>\n",
       "      <th>MedEx</th>\n",
       "    </tr>\n",
       "  </thead>\n",
       "  <tbody>\n",
       "    <tr>\n",
       "      <th>0</th>\n",
       "      <td>[(History, history), (of, of), (uncontrolled, ...</td>\n",
       "      <td>NCT00001149</td>\n",
       "      <td>[((history, NN),), ((seizure, NNS),), ((presen...</td>\n",
       "      <td>[(History, NN), (of, IN), (uncontrolled, VBN),...</td>\n",
       "      <td>[History, of, uncontrolled, seizures, at, the,...</td>\n",
       "      <td>0</td>\n",
       "      <td></td>\n",
       "    </tr>\n",
       "    <tr>\n",
       "      <th>1</th>\n",
       "      <td>[(Seizure, seizure), (frequency, frequency), (...</td>\n",
       "      <td>NCT00001149</td>\n",
       "      <td>[((seizure, NN),), ((frequency, NN),), ((histo...</td>\n",
       "      <td>[(Seizure, NN), (frequency, NN), (by, IN), (hi...</td>\n",
       "      <td>[Seizure, frequency, by, history, must, be, su...</td>\n",
       "      <td>1</td>\n",
       "      <td></td>\n",
       "    </tr>\n",
       "    <tr>\n",
       "      <th>2</th>\n",
       "      <td>[(Patients, patient), (of, of), (any, any), (a...</td>\n",
       "      <td>NCT00001149</td>\n",
       "      <td>[((patient, NNS),), ((age, NN),), ((patient, N...</td>\n",
       "      <td>[(Patients, NNS), (of, IN), (any, DT), (age, N...</td>\n",
       "      <td>[Patients, of, any, age, may, be, accepted]</td>\n",
       "      <td>2</td>\n",
       "      <td></td>\n",
       "    </tr>\n",
       "    <tr>\n",
       "      <th>3</th>\n",
       "      <td>[(Patients, patient), (and, and), (parents, pa...</td>\n",
       "      <td>NCT00001149</td>\n",
       "      <td>[((patient, NNS),), ((parent, NNS),), ((guardi...</td>\n",
       "      <td>[(Patients, NNS), (and, CC), (parents, NNS), (...</td>\n",
       "      <td>[Patients, and, parents, or, guardians, if, ap...</td>\n",
       "      <td>3</td>\n",
       "      <td></td>\n",
       "    </tr>\n",
       "    <tr>\n",
       "      <th>4</th>\n",
       "      <td>[(Patients, patient)]</td>\n",
       "      <td>NCT00001192</td>\n",
       "      <td>[((patient, NNS),)]</td>\n",
       "      <td>[(Patients, NNS)]</td>\n",
       "      <td>[Patients]</td>\n",
       "      <td>4</td>\n",
       "      <td></td>\n",
       "    </tr>\n",
       "  </tbody>\n",
       "</table>\n",
       "</div>"
      ],
      "text/plain": [
       "                                              Lemmas        NctId  \\\n",
       "0  [(History, history), (of, of), (uncontrolled, ...  NCT00001149   \n",
       "1  [(Seizure, seizure), (frequency, frequency), (...  NCT00001149   \n",
       "2  [(Patients, patient), (of, of), (any, any), (a...  NCT00001149   \n",
       "3  [(Patients, patient), (and, and), (parents, pa...  NCT00001149   \n",
       "4                              [(Patients, patient)]  NCT00001192   \n",
       "\n",
       "                                              Ngrams  \\\n",
       "0  [((history, NN),), ((seizure, NNS),), ((presen...   \n",
       "1  [((seizure, NN),), ((frequency, NN),), ((histo...   \n",
       "2  [((patient, NNS),), ((age, NN),), ((patient, N...   \n",
       "3  [((patient, NNS),), ((parent, NNS),), ((guardi...   \n",
       "4                                [((patient, NNS),)]   \n",
       "\n",
       "                                                Tags  \\\n",
       "0  [(History, NN), (of, IN), (uncontrolled, VBN),...   \n",
       "1  [(Seizure, NN), (frequency, NN), (by, IN), (hi...   \n",
       "2  [(Patients, NNS), (of, IN), (any, DT), (age, N...   \n",
       "3  [(Patients, NNS), (and, CC), (parents, NNS), (...   \n",
       "4                                  [(Patients, NNS)]   \n",
       "\n",
       "                                              Tokens  criteria_id MedEx  \n",
       "0  [History, of, uncontrolled, seizures, at, the,...            0        \n",
       "1  [Seizure, frequency, by, history, must, be, su...            1        \n",
       "2        [Patients, of, any, age, may, be, accepted]            2        \n",
       "3  [Patients, and, parents, or, guardians, if, ap...            3        \n",
       "4                                         [Patients]            4        "
      ]
     },
     "execution_count": 5,
     "metadata": {},
     "output_type": "execute_result"
    }
   ],
   "source": [
    "medex = pd.read_pickle(os.path.join(data_dir, 'ct_medex.pckl'))\n",
    "medex.head()"
   ]
  },
  {
   "cell_type": "markdown",
   "metadata": {},
   "source": [
    "# Merging datasets by criteria_id"
   ]
  },
  {
   "cell_type": "code",
   "execution_count": 6,
   "metadata": {
    "collapsed": false
   },
   "outputs": [
    {
     "name": "stdout",
     "output_type": "stream",
     "text": [
      "merged index  1000\n",
      "medex info "
     ]
    },
    {
     "ename": "TypeError",
     "evalue": "cannot convert the series to <type 'int'>",
     "output_type": "error",
     "traceback": [
      "\u001b[0;31m---------------------------------------------------------------------------\u001b[0m",
      "\u001b[0;31mTypeError\u001b[0m                                 Traceback (most recent call last)",
      "\u001b[0;32m<ipython-input-6-9d535c98773b>\u001b[0m in \u001b[0;36m<module>\u001b[0;34m()\u001b[0m\n\u001b[1;32m      5\u001b[0m \u001b[0;32mfor\u001b[0m \u001b[0mi\u001b[0m \u001b[0;32min\u001b[0m \u001b[0mmerged\u001b[0m\u001b[0;34m.\u001b[0m\u001b[0mindex\u001b[0m\u001b[0;34m[\u001b[0m\u001b[0;36m1000\u001b[0m\u001b[0;34m:\u001b[0m\u001b[0;36m2000\u001b[0m\u001b[0;34m]\u001b[0m\u001b[0;34m:\u001b[0m\u001b[0;34m\u001b[0m\u001b[0m\n\u001b[1;32m      6\u001b[0m     \u001b[0;32mprint\u001b[0m \u001b[0;34m\"merged index \"\u001b[0m\u001b[0;34m,\u001b[0m \u001b[0mi\u001b[0m\u001b[0;34m\u001b[0m\u001b[0m\n\u001b[0;32m----> 7\u001b[0;31m     \u001b[0;32mprint\u001b[0m \u001b[0;34m\"medex info \"\u001b[0m\u001b[0;34m,\u001b[0m \u001b[0mmedex\u001b[0m\u001b[0;34m.\u001b[0m\u001b[0mMedEx\u001b[0m\u001b[0;34m[\u001b[0m\u001b[0mint\u001b[0m\u001b[0;34m(\u001b[0m\u001b[0mmerged\u001b[0m\u001b[0;34m.\u001b[0m\u001b[0mcriteria_id\u001b[0m\u001b[0;34m[\u001b[0m\u001b[0mi\u001b[0m\u001b[0;34m]\u001b[0m\u001b[0;34m)\u001b[0m\u001b[0;34m]\u001b[0m\u001b[0;34m\u001b[0m\u001b[0m\n\u001b[0m\u001b[1;32m      8\u001b[0m     \u001b[0;32mprint\u001b[0m\u001b[0;34m\u001b[0m\u001b[0m\n\u001b[1;32m      9\u001b[0m     \u001b[0;32mif\u001b[0m \u001b[0mi\u001b[0m \u001b[0;34m%\u001b[0m \u001b[0;36m500\u001b[0m \u001b[0;34m==\u001b[0m \u001b[0;36m0\u001b[0m\u001b[0;34m:\u001b[0m\u001b[0;34m\u001b[0m\u001b[0m\n",
      "\u001b[0;32m//anaconda/lib/python2.7/site-packages/pandas/core/series.pyc\u001b[0m in \u001b[0;36mwrapper\u001b[0;34m(self)\u001b[0m\n\u001b[1;32m     75\u001b[0m             \u001b[0;32mreturn\u001b[0m \u001b[0mconverter\u001b[0m\u001b[0;34m(\u001b[0m\u001b[0mself\u001b[0m\u001b[0;34m.\u001b[0m\u001b[0miloc\u001b[0m\u001b[0;34m[\u001b[0m\u001b[0;36m0\u001b[0m\u001b[0;34m]\u001b[0m\u001b[0;34m)\u001b[0m\u001b[0;34m\u001b[0m\u001b[0m\n\u001b[1;32m     76\u001b[0m         raise TypeError(\n\u001b[0;32m---> 77\u001b[0;31m             \"cannot convert the series to {0}\".format(str(converter)))\n\u001b[0m\u001b[1;32m     78\u001b[0m     \u001b[0;32mreturn\u001b[0m \u001b[0mwrapper\u001b[0m\u001b[0;34m\u001b[0m\u001b[0m\n\u001b[1;32m     79\u001b[0m \u001b[0;34m\u001b[0m\u001b[0m\n",
      "\u001b[0;31mTypeError\u001b[0m: cannot convert the series to <type 'int'>"
     ]
    }
   ],
   "source": [
    "merged = mm.copy()\n",
    "merged[\"MedEx\"] = ''\n",
    "\n",
    "print \"Merging progress: \",\n",
    "for i in merged.index[1000:2000]:\n",
    "    if i % 500 == 0:\n",
    "        print \"{:.2f}\".format(float(i)/len(merged)),\n",
    "    merged.MedEx[i] = medex.MedEx[merged.criteria_id[i]]\n",
    "print\n",
    "print \"Merging completed.\"\n",
    "\n",
    "merged.head()"
   ]
  },
  {
   "cell_type": "code",
   "execution_count": null,
   "metadata": {
    "collapsed": false
   },
   "outputs": [],
   "source": [
    "merged.to_pickle(os.path.join(data_dir, 'ct_merged.pckl'))"
   ]
  },
  {
   "cell_type": "code",
   "execution_count": 16,
   "metadata": {
    "collapsed": false
   },
   "outputs": [
    {
     "name": "stdout",
     "output_type": "stream",
     "text": [
      "251116 127596\n"
     ]
    }
   ],
   "source": [
    "print len(mm.index), len(set(mm.index))"
   ]
  },
  {
   "cell_type": "code",
   "execution_count": null,
   "metadata": {
    "collapsed": true
   },
   "outputs": [],
   "source": []
  }
 ],
 "metadata": {
  "kernelspec": {
   "display_name": "Python 2",
   "language": "python",
   "name": "python2"
  },
  "language_info": {
   "codemirror_mode": {
    "name": "ipython",
    "version": 2
   },
   "file_extension": ".py",
   "mimetype": "text/x-python",
   "name": "python",
   "nbconvert_exporter": "python",
   "pygments_lexer": "ipython2",
   "version": "2.7.10"
  }
 },
 "nbformat": 4,
 "nbformat_minor": 0
}
