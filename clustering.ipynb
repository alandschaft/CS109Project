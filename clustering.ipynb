{
 "cells": [
  {
   "cell_type": "code",
   "execution_count": 1,
   "metadata": {
    "collapsed": true
   },
   "outputs": [],
   "source": [
    "import os\n",
    "from sklearn.neighbors import NearestNeighbors\n",
    "from math import log\n",
    "import pandas as pd\n",
    "import numpy as np"
   ]
  },
  {
   "cell_type": "code",
   "execution_count": 2,
   "metadata": {
    "collapsed": false
   },
   "outputs": [
    {
     "name": "stdout",
     "output_type": "stream",
     "text": [
      "Working directory: C:\\Study\\CS102\\project\\project2\\repro\\CS109Project\n"
     ]
    }
   ],
   "source": [
    "# Set working directory as the current directory of the ipython notebook\n",
    "working_dir = os.getcwd()\n",
    "\n",
    "print(\"Working directory: %s\" % working_dir)"
   ]
  },
  {
   "cell_type": "markdown",
   "metadata": {},
   "source": [
    "# Calculate term vectors and document clusters\n",
    "\n",
    "Generating clusters is done in two steps.\n",
    "\n",
    "1. First, for each document, rank the set of terms for the document with G2 scores. \n",
    "2. Then, for each document, generate clusters of K most similar documents.\n",
    "\n",
    "By default the term ranking stage uses MetaMap CUIs for terms; this can be configured as a parameter to the respective functions."
   ]
  },
  {
   "cell_type": "code",
   "execution_count": 3,
   "metadata": {
    "collapsed": true
   },
   "outputs": [],
   "source": [
    "def g2(a, b, c, d):\n",
    "    \"\"\" Calculate Dunning's log-likelihood score\n",
    "\n",
    "    :param a: term frequency in corpus 1\n",
    "    :type a: double\n",
    "    :param b: term frequency in corpus 2\n",
    "    :type b: double\n",
    "    :param c: corpus 1 frequency of other terms (size - a)\n",
    "    :type c: double\n",
    "    :param d: corpus 2 frequency of other terms (size - b)\n",
    "    :type d: double\n",
    "    :return: log-likelihood score\n",
    "    :rtype: double\n",
    "    \"\"\"\n",
    "    a = a + 1.0\n",
    "    b = b + 1.0\n",
    "    c = c + 1.0\n",
    "    d = d + 1.0\n",
    "    G2 = 2 * (\n",
    "        a * log(a) + b * log(b) + c * log(c) + d * log(d) - (a + b) * log(a + b) - (a + c) * log(a + c) - (b + d) * log(\n",
    "            b + d) - (c + d) * log(c + d) + (a + b + c + d) * log(a + b + c + d))\n",
    "    return G2"
   ]
  },
  {
   "cell_type": "code",
   "execution_count": 4,
   "metadata": {
    "collapsed": true
   },
   "outputs": [],
   "source": [
    "def term_frequencies(data, column='cui'):\n",
    "    return data[column].value_counts()\n",
    "\n",
    "def aggregate_data(data, column='cui'):\n",
    "    grouped = data.groupby(data['nct_id'])\n",
    "    aggregated = grouped.agg({column: lambda x: x.tolist()})\n",
    "    return aggregated\n",
    "\n",
    "def rank_terms(freq_map, aggregated, column='cui'):\n",
    "    def calc_freqs(r):\n",
    "        k,v = np.unique(r, return_counts=True)\n",
    "        return dict(zip(k,v))\n",
    "\n",
    "    scores = [] # 2D matrix: 1 document per row, 1 term per column\n",
    "    corpus_size = freq_map.sum()\n",
    "    for row in aggregated[column].get_values()[:100]:\n",
    "        doc_freqs = calc_freqs(row)\n",
    "        doc_size = sum(doc_freqs.values())\n",
    "        doc_vector = []\n",
    "        for term, freq in freq_map.iteritems():\n",
    "            a = int(doc_freqs[term]) if term in doc_freqs else 0\n",
    "            b = freq\n",
    "            c = doc_size - a\n",
    "            d = corpus_size - b\n",
    "            score = g2(a,b,c,d)\n",
    "            doc_vector.append(score)\n",
    "        scores.append(doc_vector)\n",
    "    return np.array(scores)\n",
    "\n",
    "def generate_clusters(term_vectors, k=5):\n",
    "    nn = NearestNeighbors(n_neighbors=k, algorithm='ball_tree').fit(term_vectors)\n",
    "    distances, indices = nn.kneighbors(term_vectors)\n",
    "    return distances, indices"
   ]
  },
  {
   "cell_type": "code",
   "execution_count": 5,
   "metadata": {
    "collapsed": false
   },
   "outputs": [
    {
     "data": {
      "text/html": [
       "<div>\n",
       "<table border=\"1\" class=\"dataframe\">\n",
       "  <thead>\n",
       "    <tr style=\"text-align: right;\">\n",
       "      <th></th>\n",
       "      <th>nct_id</th>\n",
       "      <th>criteria_id</th>\n",
       "      <th>ngram_index</th>\n",
       "      <th>score</th>\n",
       "      <th>term</th>\n",
       "      <th>cui</th>\n",
       "      <th>stype</th>\n",
       "      <th>cid</th>\n",
       "    </tr>\n",
       "  </thead>\n",
       "  <tbody>\n",
       "    <tr>\n",
       "      <th>0</th>\n",
       "      <td>NCT00001149</td>\n",
       "      <td>0</td>\n",
       "      <td>0</td>\n",
       "      <td>11.49</td>\n",
       "      <td>Historical aspects qualifier</td>\n",
       "      <td>C0019665</td>\n",
       "      <td>inpr</td>\n",
       "      <td>[x.x.x]</td>\n",
       "    </tr>\n",
       "    <tr>\n",
       "      <th>1</th>\n",
       "      <td>NCT00001149</td>\n",
       "      <td>0</td>\n",
       "      <td>0</td>\n",
       "      <td>8.34</td>\n",
       "      <td>History</td>\n",
       "      <td>C0019664</td>\n",
       "      <td>ocdi</td>\n",
       "      <td>[K01.400]</td>\n",
       "    </tr>\n",
       "    <tr>\n",
       "      <th>2</th>\n",
       "      <td>NCT00001149</td>\n",
       "      <td>0</td>\n",
       "      <td>1</td>\n",
       "      <td>17.80</td>\n",
       "      <td>Seizures</td>\n",
       "      <td>C0036572</td>\n",
       "      <td>sosy</td>\n",
       "      <td>[C10.228.140.490.631, C10.597.742, C23.888.592...</td>\n",
       "    </tr>\n",
       "    <tr>\n",
       "      <th>3</th>\n",
       "      <td>NCT00001149</td>\n",
       "      <td>0</td>\n",
       "      <td>3</td>\n",
       "      <td>8.34</td>\n",
       "      <td>Time</td>\n",
       "      <td>C0040223</td>\n",
       "      <td>tmco</td>\n",
       "      <td>[G01.910]</td>\n",
       "    </tr>\n",
       "    <tr>\n",
       "      <th>4</th>\n",
       "      <td>NCT00001149</td>\n",
       "      <td>0</td>\n",
       "      <td>7</td>\n",
       "      <td>17.80</td>\n",
       "      <td>Seizures</td>\n",
       "      <td>C0036572</td>\n",
       "      <td>sosy</td>\n",
       "      <td>[C10.228.140.490.631, C10.597.742, C23.888.592...</td>\n",
       "    </tr>\n",
       "  </tbody>\n",
       "</table>\n",
       "</div>"
      ],
      "text/plain": [
       "        nct_id  criteria_id  ngram_index  score                          term  \\\n",
       "0  NCT00001149            0            0  11.49  Historical aspects qualifier   \n",
       "1  NCT00001149            0            0   8.34                       History   \n",
       "2  NCT00001149            0            1  17.80                      Seizures   \n",
       "3  NCT00001149            0            3   8.34                          Time   \n",
       "4  NCT00001149            0            7  17.80                      Seizures   \n",
       "\n",
       "        cui stype                                                cid  \n",
       "0  C0019665  inpr                                            [x.x.x]  \n",
       "1  C0019664  ocdi                                          [K01.400]  \n",
       "2  C0036572  sosy  [C10.228.140.490.631, C10.597.742, C23.888.592...  \n",
       "3  C0040223  tmco                                          [G01.910]  \n",
       "4  C0036572  sosy  [C10.228.140.490.631, C10.597.742, C23.888.592...  "
      ]
     },
     "execution_count": 5,
     "metadata": {},
     "output_type": "execute_result"
    }
   ],
   "source": [
    "data_dir = os.path.join(working_dir, 'data')\n",
    "df = pd.read_pickle(os.path.join(data_dir, 'mm.pckl'))\n",
    "\n",
    "df.head()"
   ]
  },
  {
   "cell_type": "markdown",
   "metadata": {},
   "source": [
    "*term_frequencies(data_frame)* returns the counts for each term (CUI) across the whole dataset."
   ]
  },
  {
   "cell_type": "code",
   "execution_count": 6,
   "metadata": {
    "collapsed": false
   },
   "outputs": [
    {
     "data": {
      "text/plain": [
       "C0030705    11315\n",
       "C0036572    10535\n",
       "C0019664     7651\n",
       "C0019665     7651\n",
       "C0012634     7284\n",
       "Name: cui, dtype: int64"
      ]
     },
     "execution_count": 6,
     "metadata": {},
     "output_type": "execute_result"
    }
   ],
   "source": [
    "freq_map = term_frequencies(df)\n",
    "freq_map.head()"
   ]
  },
  {
   "cell_type": "markdown",
   "metadata": {},
   "source": [
    "*aggregate_data(data_frame)* groups the MetaMap-tagged data (one row per one MM tag) according to the NCT ID of the original document."
   ]
  },
  {
   "cell_type": "code",
   "execution_count": 7,
   "metadata": {
    "collapsed": false
   },
   "outputs": [
    {
     "data": {
      "text/html": [
       "<div>\n",
       "<table border=\"1\" class=\"dataframe\">\n",
       "  <thead>\n",
       "    <tr style=\"text-align: right;\">\n",
       "      <th></th>\n",
       "      <th>cui</th>\n",
       "    </tr>\n",
       "    <tr>\n",
       "      <th>nct_id</th>\n",
       "      <th></th>\n",
       "    </tr>\n",
       "  </thead>\n",
       "  <tbody>\n",
       "    <tr>\n",
       "      <th>NCT00001149</th>\n",
       "      <td>[C0019665, C0019664, C0036572, C0040223, C0036...</td>\n",
       "    </tr>\n",
       "    <tr>\n",
       "      <th>NCT00001192</th>\n",
       "      <td>[C0030705, C0042960, C3661466, C0019665, C0019...</td>\n",
       "    </tr>\n",
       "    <tr>\n",
       "      <th>NCT00001205</th>\n",
       "      <td>[C0030705, C0039798, C0008059, C0042153, C0021...</td>\n",
       "    </tr>\n",
       "    <tr>\n",
       "      <th>NCT00001218</th>\n",
       "      <td>[C0031206, C0018684, C0031206, C0018684, C1708...</td>\n",
       "    </tr>\n",
       "    <tr>\n",
       "      <th>NCT00001262</th>\n",
       "      <td>[C0021289, C0021270, C0012634, C0021289, C0021...</td>\n",
       "    </tr>\n",
       "  </tbody>\n",
       "</table>\n",
       "</div>"
      ],
      "text/plain": [
       "                                                           cui\n",
       "nct_id                                                        \n",
       "NCT00001149  [C0019665, C0019664, C0036572, C0040223, C0036...\n",
       "NCT00001192  [C0030705, C0042960, C3661466, C0019665, C0019...\n",
       "NCT00001205  [C0030705, C0039798, C0008059, C0042153, C0021...\n",
       "NCT00001218  [C0031206, C0018684, C0031206, C0018684, C1708...\n",
       "NCT00001262  [C0021289, C0021270, C0012634, C0021289, C0021..."
      ]
     },
     "execution_count": 7,
     "metadata": {},
     "output_type": "execute_result"
    }
   ],
   "source": [
    "agg = aggregate_data(df)\n",
    "agg.head()"
   ]
  },
  {
   "cell_type": "markdown",
   "metadata": {},
   "source": [
    "*rank_terms(frequency_map, aggregated_terms)* calculates the scores for each term per each document. It returns a list where each row corresponds to each document in *aggregated* and each column corresponds to each term in *frequency_map*."
   ]
  },
  {
   "cell_type": "code",
   "execution_count": 8,
   "metadata": {
    "collapsed": false
   },
   "outputs": [
    {
     "name": "stdout",
     "output_type": "stream",
     "text": [
      "[[  1.45022006e+01   3.96392436e+01   1.28777739e+01 ...,   1.21767907e+01\n",
      "    1.21767907e+01   1.21767907e+01]\n",
      " [  8.58362224e-02   9.26124912e-01   1.01247500e+01 ...,   1.30902074e+01\n",
      "    1.30902074e+01   1.30902074e+01]\n",
      " [  7.16466057e+00   1.45620625e+01   9.29422268e+00 ...,   1.00233137e+01\n",
      "    1.00233137e+01   1.00233137e+01]\n",
      " ..., \n",
      " [  5.28966357e-01   4.05534714e-01   6.81057321e-02 ...,   1.35979165e+01\n",
      "    1.35979165e+01   1.35979165e+01]\n",
      " [  1.10678277e+00   1.18678705e+01   7.43337903e+00 ...,   1.03260907e+01\n",
      "    1.03260907e+01   1.03260907e+01]\n",
      " [  1.35655608e-03   2.92904885e+00   1.16642162e-01 ...,   1.48219351e+01\n",
      "    1.48219351e+01   1.48219351e+01]]\n"
     ]
    }
   ],
   "source": [
    "term_vectors = rank_terms(freq_map, agg)\n",
    "print term_vectors[:10]"
   ]
  },
  {
   "cell_type": "markdown",
   "metadata": {},
   "source": [
    "*generate_clusters(term_vectors, k_neighbours)* calculates *k* nearest neighbour for each document. It returns (1) a list of distances between each document and its neighbours (the smaller the better) and (2) a list of indexes of documents in the original data frame."
   ]
  },
  {
   "cell_type": "code",
   "execution_count": 9,
   "metadata": {
    "collapsed": false
   },
   "outputs": [
    {
     "name": "stdout",
     "output_type": "stream",
     "text": [
      "[[   0.          123.43665517  126.98453058  128.74422355  131.58699936]\n",
      " [   0.          159.98126099  164.24578892  166.94152577  167.03454542]\n",
      " [   0.          369.72215681  377.16360152  378.94414316  381.79516892]\n",
      " [   0.          132.8194023   134.40514032  136.87465117  141.28660178]\n",
      " [   0.          116.18613413  120.52871196  123.80496218  129.39347071]\n",
      " [   0.          193.48010625  195.1504781   198.7936668   200.29022659]\n",
      " [   0.           96.60769074  103.24285222  108.95863413  115.93608256]\n",
      " [   0.          133.50801158  134.88174669  136.57904711  138.33775187]\n",
      " [   0.          256.11704843  261.5567016   267.33249578  270.06915452]\n",
      " [   0.          104.16659682  107.87277958  108.7198662   113.19401301]\n",
      " [   0.          153.74047497  201.89755648  219.8198197   220.17700123]\n",
      " [   0.          198.44221673  210.08180529  215.26854593  217.05989916]\n",
      " [   0.          139.17011042  139.35144945  143.72153302  146.5049335 ]\n",
      " [   0.          133.44372917  151.85073243  153.7649212   153.96366111]\n",
      " [   0.          218.85432433  238.96184049  240.7996897   247.28368106]\n",
      " [   0.          244.80068859  255.75757683  255.99871838  258.5583724 ]\n",
      " [   0.          208.92224325  214.20520211  215.10072596  218.87680923]\n",
      " [   0.          286.50647945  295.65497436  295.7185523   297.01004252]\n",
      " [   0.          194.56790867  238.95519703  243.15150123  244.34711909]\n",
      " [   0.          233.58451693  234.81447607  238.32439864  239.68222436]\n",
      " [   0.          126.98453058  147.39923065  148.36409762  153.06549193]\n",
      " [   0.           98.28462669  101.18993271  105.97099136  108.7198662 ]\n",
      " [   0.          185.10941581  188.44163651  192.13261763  193.08048322]\n",
      " [   0.          273.46128445  278.88973419  280.34515064  282.8123141 ]\n",
      " [   0.          146.50867324  148.88164107  150.09117122  151.64453993]\n",
      " [   0.          208.95918942  217.80849295  227.62018091  233.62845559]\n",
      " [   0.           42.67543794   47.41222034  113.63648008  185.73143358]\n",
      " [   0.          172.04743758  173.02631677  178.77886422  182.21086369]\n",
      " [   0.          193.86672214  198.88509255  204.83403672  205.97380669]\n",
      " [   0.          147.67247273  156.28250784  158.57918949  163.87809279]\n",
      " [   0.          117.35651992  119.99400414  120.05515641  123.31149946]\n",
      " [   0.          337.80262567  347.69779815  349.86389525  350.62239858]\n",
      " [   0.          106.19162815  109.91181327  115.93608256  116.21336889]\n",
      " [   0.          155.53526734  156.87041226  164.83372516  166.20490419]\n",
      " [   0.          244.14630873  249.16861545  256.50489208  262.37867073]\n",
      " [   0.          112.99903278  113.63648008  116.51656111  122.23207971]\n",
      " [   0.          156.87041226  204.22998961  220.32708821  225.29565504]\n",
      " [   0.           42.67543794   49.4557549   134.74333563  208.31922973]\n",
      " [   0.           47.41222034   49.4557549   116.51656111  187.58162221]\n",
      " [   0.           98.28462669   98.90162758  104.16659682  105.93244893]\n",
      " [   0.          204.36402982  213.54191285  214.6504086   217.75394129]\n",
      " [   0.           91.60201027   98.90162758  101.18993271  103.24285222]\n",
      " [   0.          154.53535468  161.91242772  165.80187332  169.47160284]\n",
      " [   0.          164.13583484  171.35598386  177.87959457  178.46441186]\n",
      " [   0.          136.0479175   150.0820102   151.35378414  153.43467072]\n",
      " [   0.          281.41406231  282.94279746  297.47336089  297.48466718]\n",
      " [   0.          399.21190131  404.04409308  405.77519483  406.79941155]\n",
      " [   0.          123.43665517  128.81108511  140.79384471  142.93652988]\n",
      " [   0.          148.4338471   148.76400172  148.90754947  152.23966301]\n",
      " [   0.          139.21538434  155.6405565   163.75928398  165.75143338]\n",
      " [   0.           91.29521409   91.60201027   96.60769074  105.93244893]\n",
      " [   0.          157.81468361  167.89389397  169.81005391  177.50610209]\n",
      " [   0.          353.51092125  362.543655    365.4806343   372.1290084 ]\n",
      " [   0.          209.54605116  216.51199767  217.55088976  218.52580373]\n",
      " [   0.          125.96274552  126.81053559  129.32622952  132.54841292]\n",
      " [   0.          235.57693775  250.39802299  251.70997422  256.89480556]\n",
      " [   0.          152.16273847  158.97743406  162.53359687  166.12643472]\n",
      " [   0.          143.38383957  155.53526734  160.57366012  162.897753  ]\n",
      " [   0.          155.12713609  159.37285905  164.26408746  164.9235123 ]\n",
      " [   0.          276.28516277  276.95896539  288.20624428  289.08309779]\n",
      " [   0.           91.29521409  108.95863413  116.18613413  117.82208528]\n",
      " [   0.          258.43966532  263.79668497  263.86952846  264.44306176]\n",
      " [   0.          224.68424069  243.97736409  244.2335057   246.38817434]\n",
      " [   0.          193.56915519  207.3758851   212.6395224   217.70073046]\n",
      " [   0.          153.74047497  162.897753    173.33761245  178.46997007]\n",
      " [   0.          240.56076344  249.0248504   249.54627146  256.53788189]\n",
      " [   0.          623.68978543  626.94566952  636.75250402  636.89825744]\n",
      " [   0.           37.35026258  178.9016748   183.24489413  192.13736737]\n",
      " [   0.           37.35026258  170.8289761   188.22757737  188.71881106]\n",
      " [   0.          253.87701005  404.09472165  405.6815214   408.75735167]\n",
      " [   0.          131.58699936  139.21538434  142.93652988  145.02528985]\n",
      " [   0.          187.62513024  199.87271798  212.07292454  212.68781989]\n",
      " [   0.          253.87701005  330.10255623  333.06207776  343.81364336]\n",
      " [   0.          299.34390843  311.2466409   311.51152927  312.69162572]\n",
      " [   0.          164.300475    175.61360262  176.33221416  177.47424254]\n",
      " [   0.          195.09019447  210.78858353  211.0068277   212.08021679]\n",
      " [   0.          228.93118098  230.04864255  231.63725037  234.16630284]\n",
      " [   0.          139.98327169  145.32577204  147.7164152   148.77523928]\n",
      " [   0.          210.56972509  217.25716827  218.68799627  220.98088168]\n",
      " [   0.          169.89121368  223.5404314   231.22927879  241.81250569]\n",
      " [   0.          215.8408697   218.87723205  219.60938529  221.3984695 ]\n",
      " [   0.          157.40752334  158.64188218  162.00161939  166.10356698]\n",
      " [   0.          164.22899631  165.9305293   167.37781478  168.1172873 ]\n",
      " [   0.          158.1990959   173.45036853  176.63689595  176.75326527]\n",
      " [   0.          173.45036853  231.35164903  233.968204    239.87923727]\n",
      " [   0.          250.52864527  257.61729117  257.89198339  258.1498247 ]\n",
      " [   0.          238.94368804  248.93913554  253.01818962  258.25124916]\n",
      " [   0.          339.96060914  340.6693544   344.54879375  353.62901776]\n",
      " [   0.          215.58010467  231.02291939  244.36091579  251.41234313]\n",
      " [   0.          157.81468361  206.26682624  229.60602109  233.11056602]\n",
      " [   0.          300.14332425  300.75078283  310.09635909  313.43367548]\n",
      " [   0.          251.68773529  253.68128146  265.96311135  268.29815614]\n",
      " [   0.          215.21207608  229.73024473  235.84368171  241.18500738]\n",
      " [   0.          503.35483769  510.49711371  513.33144437  514.42646837]\n",
      " [   0.          143.38383957  174.28489208  176.70885745  182.43598647]\n",
      " [   0.          169.89121368  173.82952441  198.31773779  199.87271798]\n",
      " [   0.          356.64187472  360.3410634   360.46882352  390.9154103 ]\n",
      " [   0.          128.74422355  147.39923065  147.78047777  150.0820102 ]\n",
      " [   0.          300.885746    406.98772222  417.83612304  423.73220147]\n",
      " [   0.          300.885746    460.46519518  465.64649963  472.58501607]] [[ 0 47 20 97 70]\n",
      " [ 1 60  6  4 50]\n",
      " [ 2 57 33 64 68]\n",
      " [ 3 50 41  6 60]\n",
      " [ 4 60 50  6 30]\n",
      " [ 5 57 64 33  0]\n",
      " [ 6 50 41 60 32]\n",
      " [ 7 41 50  6 60]\n",
      " [ 8 64 57 29  0]\n",
      " [ 9 39 41 21 50]\n",
      " [10 64 70 97 57]\n",
      " [11 57 33 64 44]\n",
      " [12 60  4  6 50]\n",
      " [13  0 97 44 47]\n",
      " [14 71 64 57 95]\n",
      " [15 57 33  0 97]\n",
      " [16 57 97  0 33]\n",
      " [17 57 44 33 64]\n",
      " [18 13  0 44 97]\n",
      " [19  0 60  4 47]\n",
      " [20  0 97 47 60]\n",
      " [21 39 41 50  9]\n",
      " [22  0 60 47  4]\n",
      " [23 57 13 64 33]\n",
      " [24 41 50 39 21]\n",
      " [25 57 71 33 95]\n",
      " [26 37 38 35 39]\n",
      " [27 70  0 97 44]\n",
      " [28  0 13 97 70]\n",
      " [29  0 13 97 44]\n",
      " [30 50 41  6 60]\n",
      " [31 57 64 94 33]\n",
      " [32 41 50  6 39]\n",
      " [33 57 36 44  0]\n",
      " [34 57 71 64 33]\n",
      " [35 39 26 38 21]\n",
      " [36 33 57 94 71]\n",
      " [37 26 38 35 39]\n",
      " [38 26 37 35 39]\n",
      " [39 21 41  9 50]\n",
      " [40 44 57 58  0]\n",
      " [41 50 39 21  6]\n",
      " [42  0 44 97 13]\n",
      " [43  0 70 44 97]\n",
      " [44  0 97 70 47]\n",
      " [45 57 71 64 68]\n",
      " [46 92 57 71 85]\n",
      " [47  0 60  4 70]\n",
      " [48 60 50  6 41]\n",
      " [49 70  0 60 47]\n",
      " [50 60 41  6 39]\n",
      " [51 89  0 97 70]\n",
      " [52 57 94 71 64]\n",
      " [53  0 60 47 70]\n",
      " [54 60 50  6 41]\n",
      " [55 57 33 64 94]\n",
      " [56  0 97 44 58]\n",
      " [57 94 33  0 64]\n",
      " [58  0 97 13 44]\n",
      " [59 57 71 64 33]\n",
      " [60 50  6  4 41]\n",
      " [61 57 42 44  0]\n",
      " [62 57 33 68 71]\n",
      " [63 57 33 64 44]\n",
      " [64 10 57 33 70]\n",
      " [65 57 64 71 33]\n",
      " [66 71 57 64 94]\n",
      " [67 68 57 56 64]\n",
      " [68 67 57 64 56]\n",
      " [69 72 64 14 71]\n",
      " [70  0 49 47 60]\n",
      " [71 57 95 33 64]\n",
      " [72 69 14 71 57]\n",
      " [73 57 56 33 64]\n",
      " [74  0 44 97 13]\n",
      " [75  0 44 97 70]\n",
      " [76  0 57 33 44]\n",
      " [77 60  6  4 50]\n",
      " [78 57  0 33 56]\n",
      " [79 95 58 57 71]\n",
      " [80 57 56  0 33]\n",
      " [81 50 41  6 60]\n",
      " [82 50  6 41 24]\n",
      " [83  0 84 70 97]\n",
      " [84 83  0 57 97]\n",
      " [85  0 29 44 13]\n",
      " [86 57 33 64 94]\n",
      " [87 71 57 92 68]\n",
      " [88 57 71 94 95]\n",
      " [89 51  7 97  0]\n",
      " [90 57 71 64 33]\n",
      " [91 57 71 64 94]\n",
      " [92 57 71 64  5]\n",
      " [93 57 64 71 33]\n",
      " [94 57  0 97 64]\n",
      " [95 79 57 94 71]\n",
      " [96 57 71 94 88]\n",
      " [97  0 20 47 44]\n",
      " [98 99 71 57 14]\n",
      " [99 98 71 62 57]]\n"
     ]
    }
   ],
   "source": [
    "distances, indices = generate_clusters(term_vectors)\n",
    "print distances, indices"
   ]
  },
  {
   "cell_type": "code",
   "execution_count": null,
   "metadata": {
    "collapsed": true
   },
   "outputs": [],
   "source": []
  }
 ],
 "metadata": {
  "kernelspec": {
   "display_name": "Python 2",
   "language": "python",
   "name": "python2"
  },
  "language_info": {
   "codemirror_mode": {
    "name": "ipython",
    "version": 2
   },
   "file_extension": ".py",
   "mimetype": "text/x-python",
   "name": "python",
   "nbconvert_exporter": "python",
   "pygments_lexer": "ipython2",
   "version": "2.7.10"
  }
 },
 "nbformat": 4,
 "nbformat_minor": 0
}
