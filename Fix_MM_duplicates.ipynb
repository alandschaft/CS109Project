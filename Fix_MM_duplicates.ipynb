{
 "cells": [
  {
   "cell_type": "code",
   "execution_count": 1,
   "metadata": {
    "collapsed": true
   },
   "outputs": [],
   "source": [
    "import os\n",
    "import pandas as pd"
   ]
  },
  {
   "cell_type": "code",
   "execution_count": 2,
   "metadata": {
    "collapsed": true
   },
   "outputs": [],
   "source": [
    "def __mkdir(*args):\n",
    "    path = os.path.join(*args)\n",
    "    try: \n",
    "        os.makedirs(path)\n",
    "    except OSError:\n",
    "        if not os.path.isdir(path):\n",
    "            raise\n",
    "    return path\n",
    "\n",
    "def extend_with_ngrams(mm_df, incl_df):\n",
    "    ngrams = []\n",
    "    for row in mm_df[['criteria_id', 'ngram_index']].itertuples():\n",
    "        cri_id = row[1]\n",
    "        ngrami = row[2]\n",
    "        ngram = incl_df[incl_df['criteria_id'] == cri_id]['Ngrams'].values[0][ngrami]\n",
    "        ngrams.append(ngram)\n",
    "    mm_df.insert(0, 'ngram', ngrams)\n",
    "    return mm_df"
   ]
  },
  {
   "cell_type": "markdown",
   "metadata": {},
   "source": [
    "## Set working directory here if different from directory of the ipython notebook"
   ]
  },
  {
   "cell_type": "code",
   "execution_count": 3,
   "metadata": {
    "collapsed": false
   },
   "outputs": [
    {
     "name": "stdout",
     "output_type": "stream",
     "text": [
      "Working directory: C:\\Study\\CS102\\project\\project2\\repro\\CS109Project\n"
     ]
    }
   ],
   "source": [
    "# Set working directory as the current directory of the ipython notebook\n",
    "working_dir = os.getcwd()\n",
    "\n",
    "print(\"Working directory: %s\" % working_dir)\n",
    "\n"
   ]
  },
  {
   "cell_type": "code",
   "execution_count": 4,
   "metadata": {
    "collapsed": false
   },
   "outputs": [
    {
     "data": {
      "text/html": [
       "<div>\n",
       "<table border=\"1\" class=\"dataframe\">\n",
       "  <thead>\n",
       "    <tr style=\"text-align: right;\">\n",
       "      <th></th>\n",
       "      <th>ngram</th>\n",
       "      <th>nct_id</th>\n",
       "      <th>criteria_id</th>\n",
       "      <th>ngram_index</th>\n",
       "      <th>score</th>\n",
       "      <th>term</th>\n",
       "      <th>cui</th>\n",
       "      <th>stype</th>\n",
       "      <th>cid</th>\n",
       "    </tr>\n",
       "  </thead>\n",
       "  <tbody>\n",
       "    <tr>\n",
       "      <th>0</th>\n",
       "      <td>((history, NN),)</td>\n",
       "      <td>NCT00001149</td>\n",
       "      <td>0</td>\n",
       "      <td>0</td>\n",
       "      <td>11.49</td>\n",
       "      <td>Historical aspects qualifier</td>\n",
       "      <td>C0019665</td>\n",
       "      <td>inpr</td>\n",
       "      <td>[x.x.x]</td>\n",
       "    </tr>\n",
       "    <tr>\n",
       "      <th>2</th>\n",
       "      <td>((seizure, NNS),)</td>\n",
       "      <td>NCT00001149</td>\n",
       "      <td>0</td>\n",
       "      <td>1</td>\n",
       "      <td>17.80</td>\n",
       "      <td>Seizures</td>\n",
       "      <td>C0036572</td>\n",
       "      <td>sosy</td>\n",
       "      <td>[C10.228.140.490.631, C10.597.742, C23.888.592...</td>\n",
       "    </tr>\n",
       "    <tr>\n",
       "      <th>3</th>\n",
       "      <td>((time, NN),)</td>\n",
       "      <td>NCT00001149</td>\n",
       "      <td>0</td>\n",
       "      <td>3</td>\n",
       "      <td>8.34</td>\n",
       "      <td>Time</td>\n",
       "      <td>C0040223</td>\n",
       "      <td>tmco</td>\n",
       "      <td>[G01.910]</td>\n",
       "    </tr>\n",
       "    <tr>\n",
       "      <th>5</th>\n",
       "      <td>((history, NN), (of, IN))</td>\n",
       "      <td>NCT00001149</td>\n",
       "      <td>0</td>\n",
       "      <td>10</td>\n",
       "      <td>9.95</td>\n",
       "      <td>Historical aspects qualifier</td>\n",
       "      <td>C0019665</td>\n",
       "      <td>inpr</td>\n",
       "      <td>[x.x.x]</td>\n",
       "    </tr>\n",
       "    <tr>\n",
       "      <th>7</th>\n",
       "      <td>((uncontrolled, VBN), (seizure, NNS))</td>\n",
       "      <td>NCT00001149</td>\n",
       "      <td>0</td>\n",
       "      <td>11</td>\n",
       "      <td>16.26</td>\n",
       "      <td>Seizures</td>\n",
       "      <td>C0036572</td>\n",
       "      <td>sosy</td>\n",
       "      <td>[C10.228.140.490.631, C10.597.742, C23.888.592...</td>\n",
       "    </tr>\n",
       "  </tbody>\n",
       "</table>\n",
       "</div>"
      ],
      "text/plain": [
       "                                   ngram       nct_id  criteria_id  \\\n",
       "0                       ((history, NN),)  NCT00001149            0   \n",
       "2                      ((seizure, NNS),)  NCT00001149            0   \n",
       "3                          ((time, NN),)  NCT00001149            0   \n",
       "5              ((history, NN), (of, IN))  NCT00001149            0   \n",
       "7  ((uncontrolled, VBN), (seizure, NNS))  NCT00001149            0   \n",
       "\n",
       "   ngram_index  score                          term       cui stype  \\\n",
       "0            0  11.49  Historical aspects qualifier  C0019665  inpr   \n",
       "2            1  17.80                      Seizures  C0036572  sosy   \n",
       "3            3   8.34                          Time  C0040223  tmco   \n",
       "5           10   9.95  Historical aspects qualifier  C0019665  inpr   \n",
       "7           11  16.26                      Seizures  C0036572  sosy   \n",
       "\n",
       "                                                 cid  \n",
       "0                                            [x.x.x]  \n",
       "2  [C10.228.140.490.631, C10.597.742, C23.888.592...  \n",
       "3                                          [G01.910]  \n",
       "5                                            [x.x.x]  \n",
       "7  [C10.228.140.490.631, C10.597.742, C23.888.592...  "
      ]
     },
     "execution_count": 4,
     "metadata": {},
     "output_type": "execute_result"
    }
   ],
   "source": [
    "data_dir = __mkdir(working_dir, \"data\")\n",
    "mm = pd.read_pickle(os.path.join(data_dir, 'mm.pckl'))\n",
    "incl = pd.read_pickle(os.path.join(data_dir, 'ct_filtered.pckl'))\n",
    "\n",
    "mm = extend_with_ngrams(mm, incl) # get corresponding ngrams for mm rows\n",
    "mm = mm.drop_duplicates('ngram') # drop mm results for ngram duplicates \n",
    "\n",
    "mm.head()"
   ]
  },
  {
   "cell_type": "code",
   "execution_count": null,
   "metadata": {
    "collapsed": true
   },
   "outputs": [],
   "source": []
  }
 ],
 "metadata": {
  "kernelspec": {
   "display_name": "Python 2",
   "language": "python",
   "name": "python2"
  },
  "language_info": {
   "codemirror_mode": {
    "name": "ipython",
    "version": 2
   },
   "file_extension": ".py",
   "mimetype": "text/x-python",
   "name": "python",
   "nbconvert_exporter": "python",
   "pygments_lexer": "ipython2",
   "version": "2.7.10"
  }
 },
 "nbformat": 4,
 "nbformat_minor": 0
}
