{
 "cells": [
  {
   "cell_type": "markdown",
   "metadata": {},
   "source": [
    "# Documentation Notebook\n",
    "\n",
    "This notebook is used to make graphs, vizualizations, etc. to explain the data processed in other notebooks. Mainly for the website and video summary."
   ]
  },
  {
   "cell_type": "code",
   "execution_count": 1,
   "metadata": {
    "collapsed": false
   },
   "outputs": [],
   "source": [
    "# import frameworks\n",
    "\n",
    "%matplotlib inline\n",
    "import pandas as pd\n",
    "import os\n",
    "import matplotlib.pyplot as plt\n",
    "import numpy as np"
   ]
  },
  {
   "cell_type": "markdown",
   "metadata": {},
   "source": [
    "Helper function to create a directory under the specified path, gracefully handling errors."
   ]
  },
  {
   "cell_type": "code",
   "execution_count": 2,
   "metadata": {
    "collapsed": false
   },
   "outputs": [],
   "source": [
    "def __mkdir(*args):\n",
    "    path = os.path.join(*args)\n",
    "    try: \n",
    "        os.makedirs(path)\n",
    "    except OSError:\n",
    "        if not os.path.isdir(path):\n",
    "            raise\n",
    "    return path"
   ]
  },
  {
   "cell_type": "code",
   "execution_count": 3,
   "metadata": {
    "collapsed": false
   },
   "outputs": [],
   "source": [
    "# define paths\n",
    "\n",
    "working_dir = os.getcwd()\n",
    "data_dir = __mkdir(working_dir, \"data\")\n",
    "images_dir = __mkdir(working_dir, \"images\")"
   ]
  },
  {
   "cell_type": "markdown",
   "metadata": {},
   "source": [
    "# Original data information\n"
   ]
  },
  {
   "cell_type": "code",
   "execution_count": 4,
   "metadata": {
    "collapsed": true
   },
   "outputs": [],
   "source": [
    "ctgov_data = pd.read_pickle(os.path.join(data_dir, 'ctgov.pckl'))"
   ]
  },
  {
   "cell_type": "code",
   "execution_count": 5,
   "metadata": {
    "collapsed": false
   },
   "outputs": [
    {
     "data": {
      "text/plain": [
       "(1347, 187)"
      ]
     },
     "execution_count": 5,
     "metadata": {},
     "output_type": "execute_result"
    }
   ],
   "source": [
    "ctgov_data.shape"
   ]
  },
  {
   "cell_type": "markdown",
   "metadata": {},
   "source": [
    "# Criteria Inclusion/Exclusion Graphs\n"
   ]
  },
  {
   "cell_type": "code",
   "execution_count": 6,
   "metadata": {
    "collapsed": false
   },
   "outputs": [
    {
     "data": {
      "text/html": [
       "<div>\n",
       "<table border=\"1\" class=\"dataframe\">\n",
       "  <thead>\n",
       "    <tr style=\"text-align: right;\">\n",
       "      <th></th>\n",
       "      <th>Criteria</th>\n",
       "      <th>Include</th>\n",
       "      <th>NctId</th>\n",
       "      <th>TokenCount</th>\n",
       "      <th>Tokens</th>\n",
       "      <th>criteria_id</th>\n",
       "    </tr>\n",
       "  </thead>\n",
       "  <tbody>\n",
       "    <tr>\n",
       "      <th>0</th>\n",
       "      <td>History of uncontrolled seizures, at the prese...</td>\n",
       "      <td>True</td>\n",
       "      <td>NCT00001149</td>\n",
       "      <td>36</td>\n",
       "      <td>[History, of, uncontrolled, seizures, ,, at, t...</td>\n",
       "      <td>0</td>\n",
       "    </tr>\n",
       "    <tr>\n",
       "      <th>1</th>\n",
       "      <td>Seizure frequency, by history, must be suffici...</td>\n",
       "      <td>True</td>\n",
       "      <td>NCT00001149</td>\n",
       "      <td>30</td>\n",
       "      <td>[Seizure, frequency, ,, by, history, ,, must, ...</td>\n",
       "      <td>1</td>\n",
       "    </tr>\n",
       "    <tr>\n",
       "      <th>2</th>\n",
       "      <td>Patients of any age may be accepted.</td>\n",
       "      <td>True</td>\n",
       "      <td>NCT00001149</td>\n",
       "      <td>8</td>\n",
       "      <td>[Patients, of, any, age, may, be, accepted, .]</td>\n",
       "      <td>2</td>\n",
       "    </tr>\n",
       "    <tr>\n",
       "      <th>3</th>\n",
       "      <td>Patients (and parents or guardians, if applica...</td>\n",
       "      <td>True</td>\n",
       "      <td>NCT00001149</td>\n",
       "      <td>43</td>\n",
       "      <td>[Patients, (, and, parents, or, guardians, ,, ...</td>\n",
       "      <td>3</td>\n",
       "    </tr>\n",
       "    <tr>\n",
       "      <th>4</th>\n",
       "      <td>Patients.</td>\n",
       "      <td>True</td>\n",
       "      <td>NCT00001192</td>\n",
       "      <td>2</td>\n",
       "      <td>[Patients, .]</td>\n",
       "      <td>4</td>\n",
       "    </tr>\n",
       "  </tbody>\n",
       "</table>\n",
       "</div>"
      ],
      "text/plain": [
       "                                            Criteria Include        NctId  \\\n",
       "0  History of uncontrolled seizures, at the prese...    True  NCT00001149   \n",
       "1  Seizure frequency, by history, must be suffici...    True  NCT00001149   \n",
       "2               Patients of any age may be accepted.    True  NCT00001149   \n",
       "3  Patients (and parents or guardians, if applica...    True  NCT00001149   \n",
       "4                                          Patients.    True  NCT00001192   \n",
       "\n",
       "   TokenCount                                             Tokens  criteria_id  \n",
       "0          36  [History, of, uncontrolled, seizures, ,, at, t...            0  \n",
       "1          30  [Seizure, frequency, ,, by, history, ,, must, ...            1  \n",
       "2           8     [Patients, of, any, age, may, be, accepted, .]            2  \n",
       "3          43  [Patients, (, and, parents, or, guardians, ,, ...            3  \n",
       "4           2                                      [Patients, .]            4  "
      ]
     },
     "execution_count": 6,
     "metadata": {},
     "output_type": "execute_result"
    }
   ],
   "source": [
    "ct_criteria = pd.read_pickle(os.path.join(data_dir, \"ct_criteria.pckl\"))\n",
    "ct_criteria.head()"
   ]
  },
  {
   "cell_type": "code",
   "execution_count": 7,
   "metadata": {
    "collapsed": false
   },
   "outputs": [],
   "source": [
    "\"\"\"\n",
    "Function\n",
    "--------\n",
    "criteria_counts\n",
    "\n",
    "Inputs\n",
    "------\n",
    "group : groupby on NctId group\n",
    "   \n",
    "Returns\n",
    "-------\n",
    "Pandas Data Frame with IncludedCriteria, ExcludedCriteria, TotalCriteria, TotalTokens and NctId as index\n",
    "     \n",
    "Notes\n",
    "-----\n",
    "\n",
    "\"\"\"\n",
    "def criteria_counts(group):\n",
    "    NctId = \"\"\n",
    "    total = 0\n",
    "    totalTokens = 0\n",
    "    included = 0\n",
    "    excluded = 0\n",
    "    for i in group.index:\n",
    "        total += 1\n",
    "        totalTokens += group[\"TokenCount\"][i]\n",
    "        if NctId == \"\":\n",
    "            NctId = group[\"NctId\"][i]\n",
    "        if group[\"Include\"][i]:\n",
    "            included += 1\n",
    "        else:\n",
    "            excluded += 1\n",
    "    row_dict = {\"IncludedCriteria\":included,\"ExcludedCriteria\":excluded,\"TotalCriteria\":total,\"TotalTokens\":totalTokens}\n",
    "    df = pd.DataFrame(columns=(list(row_dict.keys())))\n",
    "    df.loc[NctId] = list(row_dict.values())\n",
    "    return df"
   ]
  },
  {
   "cell_type": "code",
   "execution_count": 11,
   "metadata": {
    "collapsed": false
   },
   "outputs": [
    {
     "data": {
      "text/html": [
       "<div>\n",
       "<table border=\"1\" class=\"dataframe\">\n",
       "  <thead>\n",
       "    <tr style=\"text-align: right;\">\n",
       "      <th></th>\n",
       "      <th>NctId</th>\n",
       "      <th>level_1</th>\n",
       "      <th>ExcludedCriteria</th>\n",
       "      <th>TotalTokens</th>\n",
       "      <th>TotalCriteria</th>\n",
       "      <th>IncludedCriteria</th>\n",
       "    </tr>\n",
       "  </thead>\n",
       "  <tbody>\n",
       "    <tr>\n",
       "      <th>0</th>\n",
       "      <td>NCT00001149</td>\n",
       "      <td>NCT00001149</td>\n",
       "      <td>0</td>\n",
       "      <td>117</td>\n",
       "      <td>4</td>\n",
       "      <td>4</td>\n",
       "    </tr>\n",
       "    <tr>\n",
       "      <th>1</th>\n",
       "      <td>NCT00001192</td>\n",
       "      <td>NCT00001192</td>\n",
       "      <td>2</td>\n",
       "      <td>42</td>\n",
       "      <td>4</td>\n",
       "      <td>2</td>\n",
       "    </tr>\n",
       "    <tr>\n",
       "      <th>2</th>\n",
       "      <td>NCT00001205</td>\n",
       "      <td>NCT00001205</td>\n",
       "      <td>5</td>\n",
       "      <td>254</td>\n",
       "      <td>10</td>\n",
       "      <td>5</td>\n",
       "    </tr>\n",
       "    <tr>\n",
       "      <th>3</th>\n",
       "      <td>NCT00001218</td>\n",
       "      <td>NCT00001218</td>\n",
       "      <td>0</td>\n",
       "      <td>17</td>\n",
       "      <td>3</td>\n",
       "      <td>3</td>\n",
       "    </tr>\n",
       "    <tr>\n",
       "      <th>4</th>\n",
       "      <td>NCT00001262</td>\n",
       "      <td>NCT00001262</td>\n",
       "      <td>1</td>\n",
       "      <td>56</td>\n",
       "      <td>2</td>\n",
       "      <td>1</td>\n",
       "    </tr>\n",
       "    <tr>\n",
       "      <th>5</th>\n",
       "      <td>NCT00001289</td>\n",
       "      <td>NCT00001289</td>\n",
       "      <td>3</td>\n",
       "      <td>232</td>\n",
       "      <td>7</td>\n",
       "      <td>4</td>\n",
       "    </tr>\n",
       "    <tr>\n",
       "      <th>6</th>\n",
       "      <td>NCT00001325</td>\n",
       "      <td>NCT00001325</td>\n",
       "      <td>3</td>\n",
       "      <td>36</td>\n",
       "      <td>4</td>\n",
       "      <td>1</td>\n",
       "    </tr>\n",
       "    <tr>\n",
       "      <th>7</th>\n",
       "      <td>NCT00001366</td>\n",
       "      <td>NCT00001366</td>\n",
       "      <td>0</td>\n",
       "      <td>51</td>\n",
       "      <td>5</td>\n",
       "      <td>5</td>\n",
       "    </tr>\n",
       "    <tr>\n",
       "      <th>8</th>\n",
       "      <td>NCT00001404</td>\n",
       "      <td>NCT00001404</td>\n",
       "      <td>1</td>\n",
       "      <td>280</td>\n",
       "      <td>6</td>\n",
       "      <td>5</td>\n",
       "    </tr>\n",
       "    <tr>\n",
       "      <th>9</th>\n",
       "      <td>NCT00001489</td>\n",
       "      <td>NCT00001489</td>\n",
       "      <td>0</td>\n",
       "      <td>29</td>\n",
       "      <td>5</td>\n",
       "      <td>5</td>\n",
       "    </tr>\n",
       "  </tbody>\n",
       "</table>\n",
       "</div>"
      ],
      "text/plain": [
       "         NctId      level_1  ExcludedCriteria  TotalTokens  TotalCriteria  \\\n",
       "0  NCT00001149  NCT00001149                 0          117              4   \n",
       "1  NCT00001192  NCT00001192                 2           42              4   \n",
       "2  NCT00001205  NCT00001205                 5          254             10   \n",
       "3  NCT00001218  NCT00001218                 0           17              3   \n",
       "4  NCT00001262  NCT00001262                 1           56              2   \n",
       "5  NCT00001289  NCT00001289                 3          232              7   \n",
       "6  NCT00001325  NCT00001325                 3           36              4   \n",
       "7  NCT00001366  NCT00001366                 0           51              5   \n",
       "8  NCT00001404  NCT00001404                 1          280              6   \n",
       "9  NCT00001489  NCT00001489                 0           29              5   \n",
       "\n",
       "   IncludedCriteria  \n",
       "0                 4  \n",
       "1                 2  \n",
       "2                 5  \n",
       "3                 3  \n",
       "4                 1  \n",
       "5                 4  \n",
       "6                 1  \n",
       "7                 5  \n",
       "8                 5  \n",
       "9                 5  "
      ]
     },
     "execution_count": 11,
     "metadata": {},
     "output_type": "execute_result"
    }
   ],
   "source": [
    "ct_criteria_counts = ct_criteria.groupby('NctId').apply(criteria_counts).reset_index()\n",
    "ct_criteria_counts.head(10)"
   ]
  },
  {
   "cell_type": "code",
   "execution_count": 13,
   "metadata": {
    "collapsed": false
   },
   "outputs": [],
   "source": [
    "\"\"\"\n",
    "Function\n",
    "--------\n",
    "plot_histogram\n",
    "\n",
    "Inputs\n",
    "------\n",
    "data : Array of numbers for histogram\n",
    "title : String for title\n",
    "xlabel : String for xlabel\n",
    "ylabel : String for ylabel\n",
    "save : True if the histogram should be saved to the images folder\n",
    "   \n",
    "Returns\n",
    "-------\n",
    "\n",
    "\n",
    "\"\"\"\n",
    "def plot_histogram(data, title, xlabel, ylabel, save = False):\n",
    "    plt.hist(data, bins=np.arange(data.min(),data.max(),1))\n",
    "    plt.title(title)\n",
    "    plt.xlabel(xlabel)\n",
    "    plt.ylabel(ylabel)\n",
    "    plt.axvline(data.mean(), 0, 1, color='g', label='Mean')\n",
    "    plt.axvline(data.quantile(.25), 0, 1, color='r', label='Q1')\n",
    "    plt.axvline(data.quantile(.5), 0, 1, color='r', label='Q2')\n",
    "    plt.axvline(data.quantile(.75), 0, 1, color='r', label='Q3')\n",
    "    if save:\n",
    "        name_ext = \"%s.png\" % title\n",
    "        save_url = os.path.join(images_dir, name_ext)\n",
    "        plt.savefig(save_url)"
   ]
  },
  {
   "cell_type": "code",
   "execution_count": 16,
   "metadata": {
    "collapsed": false
   },
   "outputs": [
    {
     "data": {
      "text/plain": [
       "count    1341.000000\n",
       "mean        6.064131\n",
       "std         6.345082\n",
       "min         0.000000\n",
       "25%         3.000000\n",
       "50%         4.000000\n",
       "75%         7.000000\n",
       "max        62.000000\n",
       "Name: IncludedCriteria, dtype: float64"
      ]
     },
     "execution_count": 16,
     "metadata": {},
     "output_type": "execute_result"
    },
    {
     "data": {
      "image/png": "[encoded data removed]",
      "text/plain": [
       "<matplotlib.figure.Figure at 0x10cb76190>"
      ]
     },
     "metadata": {},
     "output_type": "display_data"
    }
   ],
   "source": [
    "plot_histogram(ct_criteria_counts[\"IncludedCriteria\"], \"Inclusion Criteria Count Frequencies\", \"Inclusion Criteria Count\", \"Frequency\", True)\n",
    "ct_criteria_counts[\"IncludedCriteria\"].describe()"
   ]
  },
  {
   "cell_type": "code",
   "execution_count": 15,
   "metadata": {
    "collapsed": false
   },
   "outputs": [
    {
     "data": {
      "text/plain": [
       "count    1341.000000\n",
       "mean        6.880686\n",
       "std         6.297175\n",
       "min         0.000000\n",
       "25%         2.000000\n",
       "50%         5.000000\n",
       "75%        10.000000\n",
       "max        44.000000\n",
       "Name: ExcludedCriteria, dtype: float64"
      ]
     },
     "execution_count": 15,
     "metadata": {},
     "output_type": "execute_result"
    },
    {
     "data": {
      "image/png": "[encoded data removed]",
      "text/plain": [
       "<matplotlib.figure.Figure at 0x1067f1b50>"
      ]
     },
     "metadata": {},
     "output_type": "display_data"
    }
   ],
   "source": [
    "plot_histogram(ct_criteria_counts[\"ExcludedCriteria\"], \"Excluded Criteria\", \"Number of exclusions\", \"\", True)\n",
    "ct_criteria_counts[\"ExcludedCriteria\"].describe()"
   ]
  },
  {
   "cell_type": "code",
   "execution_count": null,
   "metadata": {
    "collapsed": true
   },
   "outputs": [],
   "source": []
  }
 ],
 "metadata": {
  "kernelspec": {
   "display_name": "Python 2",
   "language": "python",
   "name": "python2"
  },
  "language_info": {
   "codemirror_mode": {
    "name": "ipython",
    "version": 2
   },
   "file_extension": ".py",
   "mimetype": "text/x-python",
   "name": "python",
   "nbconvert_exporter": "python",
   "pygments_lexer": "ipython2",
   "version": "2.7.10"
  }
 },
 "nbformat": 4,
 "nbformat_minor": 0
}
