{
 "cells": [
  {
   "cell_type": "markdown",
   "metadata": {},
   "source": [
    "# MedEx Tag Extraction\n",
    "\n",
    "We use MedEx to extract **_drug-related data_**. MedEx is an system for extracting medication and signature information from clinical text developed by Hua Xu, Josh Denny, and Min Jiang at Vanderbilt University. We used MedEx-UIMA 1.3, the open source Java implementation of original Python MedEx based on the Unstructured Information Management Architecture (UIMA) framework, for semantic‐based parsing of drug names and signatures in clinical trials data. You can find more information about the MedEx tool at https://sbmi.uth.edu/ccb/resources/medex.htm. (Xu, et al., 2010)\n",
    "\n",
    "Medicine data is one of the most important types of clinical data in electronic medical records, but it is often recorded in free-text notes. MedEx natural language processing tool exclusively extracts medication-related information. Not only does the MedEx system identifies drug and signature entities, it also codes the data into a standard representation that is easy to use for further processing.\n",
    "\n",
    "MedEx is highly accurate on the drug information extraction. According to an evaluation processed with 826 documents in 2014, MedEx-UIMA system achieved F-measures of 98.5% and 97.5% respectively for encoding drug names to corresponding RxNorm generic drug ingredients, and F-measures of 85.4% and 88.1% respectively for mapping drug names/dose/form to the most specific RxNorm concepts. It also achieved an F-measure of 90.4% for normalizing frequency information to ISO standard. (Jiang, et al., 2014)\n",
    "\n",
    "\n",
    "# One Active Ingredient, Many Drug Names\n",
    "\n",
    "When a substance is first discovered, it is given a chemical name (eg. 5-amino-2-hydroxybenzoic acid) which describes its molecular structure. When a drug is approved by the FDA in the United States, it is assigned an official generic name and a proprietary brand name to be used exclusively by the company that requested approval for the drug. Ater the drug patent expires, other companies can manufacture and market the same drug by its generic name or create a new brand name. It is also possible for a patent drug produced by the a company to have multiple names in different countries. \n",
    "\n",
    "For example, an anti-diabetic drug has a global generic name \"Acarbose\". It is also known by the brand name \"Prandase\" in Canada, \"Precose\" in America, and \"Glucobay\" in Europe and China, all manufactured and sold by Bayer Pharmaceuticals. These 4 names refers to the same drug. \n",
    "\n",
    "When these 4 different names are processed by MedEx, they are all listed as \"Acarbose\" in the generic name field of MedEx processed output. MedEx also identifies the RxNorm CUI for the corresponding generic drug ingredients. It also identifies UMLS CUI code, however; in practice we found MedEx has a much higher probablity of identifying the RxNorm CUI.\n",
    "\n",
    "\n",
    "\n",
    "### References:\n",
    "\n",
    "* Xu H, Stenner SP, Doan S, Johnson KB, Waitman LR, Denny JC. MedEx: a medication information extraction system for clinical narratives. J Am Med Inform Assoc. 2010 Jan-Feb;17(1):19–24.\n",
    "\n",
    "* Xu H, Jiang M, Oetjens M, et al. Facilitating pharmacogenetic studies using electronic health records and natural-language processing: a case study of warfarin. J Am Med Inform Assoc. 2011 Jul-Aug;18(4):387–391.\n",
    "\n",
    "* Jiang M, Wu Y, Shah A, Priyanka P, Denny JC, Xu H. Extracting and standardizing medication information in clinical text – the MedEx-UIMA system. AMIA Summits on Translational Science Proceedings. 2014;2014:37-42.\n",
    "\n",
    "* \"Generic Drugs\" (http://www.fda.gov/downloads/Drugs/DevelopmentApprovalProcess/SmallBusinessAssistance/ucm127615.pdf), Center for Drug Evaluation and Research, U.S. Food and Drug Administration."
   ]
  },
  {
   "cell_type": "markdown",
   "metadata": {},
   "source": [
    "# Initial setup\n",
    "\n",
    "Let's import the required libraries and set up global variables for the rest of the script."
   ]
  },
  {
   "cell_type": "code",
   "execution_count": 2,
   "metadata": {
    "collapsed": false
   },
   "outputs": [],
   "source": [
    "# coding: utf-8\n",
    "import os\n",
    "import re\n",
    "import pandas as pd\n",
    "import glob\n",
    "import numpy as np\n",
    "%matplotlib inline\n",
    "import matplotlib.pyplot as plt"
   ]
  },
  {
   "cell_type": "markdown",
   "metadata": {},
   "source": [
    "Helper function to create a directory under the specified path, gracefully handling errors."
   ]
  },
  {
   "cell_type": "code",
   "execution_count": 4,
   "metadata": {
    "collapsed": false
   },
   "outputs": [],
   "source": [
    "def __mkdir(*args):\n",
    "    path = os.path.join(*args)\n",
    "    try: \n",
    "        os.makedirs(path)\n",
    "    except OSError:\n",
    "        if not os.path.isdir(path):\n",
    "            raise\n",
    "    return path"
   ]
  },
  {
   "cell_type": "code",
   "execution_count": 5,
   "metadata": {
    "collapsed": false
   },
   "outputs": [],
   "source": [
    "# Create the project directory holding the downloaded data, serialized dataframes and MetaMap install.\n",
    "# Set working directory as the current directory of the ipython notebook\n",
    "working_dir = os.getcwd()\n",
    "#data_dir = __mkdir(working_dir, \"data\",\"diab\") # diabetes dataset\n",
    "data_dir = __mkdir(working_dir, \"data\") # seizure dataset\n",
    "#print(\"Working directory: %s\" % working_dir)"
   ]
  },
  {
   "cell_type": "markdown",
   "metadata": {},
   "source": [
    "# MedEx Settings\n",
    "\n",
    "We configure MedEx tagging settings here."
   ]
  },
  {
   "cell_type": "code",
   "execution_count": 6,
   "metadata": {
    "collapsed": false
   },
   "outputs": [
    {
     "data": {
      "text/plain": [
       "('/Users/Lo/Work/CS109Project/data/medex_in/',\n",
       " '/Users/Lo/Work/CS109Project/data/medex_out/')"
      ]
     },
     "execution_count": 6,
     "metadata": {},
     "output_type": "execute_result"
    }
   ],
   "source": [
    "# medex input & output directory\n",
    "medex_in = data_dir + \"/medex_in/\"\n",
    "medex_out = data_dir + \"/medex_out/\"\n",
    "keep_txt_files = True\n",
    "\n",
    "medex_in, medex_out"
   ]
  },
  {
   "cell_type": "markdown",
   "metadata": {},
   "source": [
    "# Load data for MedEx processing\n",
    "\n",
    "We use lemmatized criteria sentences from the filtered clinical trial results obtained in extract criteria step since all words were converted to a lower case standard format."
   ]
  },
  {
   "cell_type": "code",
   "execution_count": 86,
   "metadata": {
    "collapsed": false
   },
   "outputs": [
    {
     "name": "stdout",
     "output_type": "stream",
     "text": [
      "CPU times: user 4 µs, sys: 1e+03 ns, total: 5 µs\n",
      "Wall time: 9.06 µs\n"
     ]
    },
    {
     "data": {
      "text/html": [
       "<div>\n",
       "<table border=\"1\" class=\"dataframe\">\n",
       "  <thead>\n",
       "    <tr style=\"text-align: right;\">\n",
       "      <th></th>\n",
       "      <th>Lemmas</th>\n",
       "      <th>NctId</th>\n",
       "      <th>Ngrams</th>\n",
       "      <th>Tags</th>\n",
       "      <th>Tokens</th>\n",
       "      <th>criteria_id</th>\n",
       "    </tr>\n",
       "  </thead>\n",
       "  <tbody>\n",
       "    <tr>\n",
       "      <th>0</th>\n",
       "      <td>[(Diagnosed, diagnose), (with, with), (type, t...</td>\n",
       "      <td>NCT00000620</td>\n",
       "      <td>[((association, NNP), (guideline, NNS), (which...</td>\n",
       "      <td>[(Diagnosed, VBN), (with, IN), (type, NN), (2,...</td>\n",
       "      <td>[Diagnosed, with, type, 2, diabetes, mellitus,...</td>\n",
       "      <td>0</td>\n",
       "    </tr>\n",
       "    <tr>\n",
       "      <th>1</th>\n",
       "      <td>[(For, for), (participants, participant), (age...</td>\n",
       "      <td>NCT00000620</td>\n",
       "      <td>[((or, CC), (carotid, JJ), (revascularization,...</td>\n",
       "      <td>[(For, IN), (participants, NNS), (aged, VBD), ...</td>\n",
       "      <td>[For, participants, aged, 40, years, or, older...</td>\n",
       "      <td>1</td>\n",
       "    </tr>\n",
       "    <tr>\n",
       "      <th>2</th>\n",
       "      <td>[(For, for), (participants, participant), (age...</td>\n",
       "      <td>NCT00000620</td>\n",
       "      <td>[((be, VB), (at, IN), (high, JJ)), ((to, TO),)...</td>\n",
       "      <td>[(For, IN), (participants, NNS), (aged, VBD), ...</td>\n",
       "      <td>[For, participants, aged, 55, years, or, older...</td>\n",
       "      <td>2</td>\n",
       "    </tr>\n",
       "    <tr>\n",
       "      <th>3</th>\n",
       "      <td>[(HbA1c, hba1c), (7, 7), (5, 5), (9, 9), (if, ...</td>\n",
       "      <td>NCT00000620</td>\n",
       "      <td>[((5, CD), (9, CD), (if, IN)), ((on, IN), (mor...</td>\n",
       "      <td>[(HbA1c, NNP), (7, CD), (5, CD), (9, CD), (if,...</td>\n",
       "      <td>[HbA1c, 7, 5, 9, if, on, more, drugs, or, 7, 5...</td>\n",
       "      <td>3</td>\n",
       "    </tr>\n",
       "    <tr>\n",
       "      <th>4</th>\n",
       "      <td>[(Subjects, subject), (selected, select), (for...</td>\n",
       "      <td>NCT00001165</td>\n",
       "      <td>[((suspected, NNP), (abnormality, NNPS), (of, ...</td>\n",
       "      <td>[(Subjects, NNS), (selected, VBN), (for, IN), ...</td>\n",
       "      <td>[Subjects, selected, for, this, study, will, b...</td>\n",
       "      <td>4</td>\n",
       "    </tr>\n",
       "  </tbody>\n",
       "</table>\n",
       "</div>"
      ],
      "text/plain": [
       "                                              Lemmas        NctId  \\\n",
       "0  [(Diagnosed, diagnose), (with, with), (type, t...  NCT00000620   \n",
       "1  [(For, for), (participants, participant), (age...  NCT00000620   \n",
       "2  [(For, for), (participants, participant), (age...  NCT00000620   \n",
       "3  [(HbA1c, hba1c), (7, 7), (5, 5), (9, 9), (if, ...  NCT00000620   \n",
       "4  [(Subjects, subject), (selected, select), (for...  NCT00001165   \n",
       "\n",
       "                                              Ngrams  \\\n",
       "0  [((association, NNP), (guideline, NNS), (which...   \n",
       "1  [((or, CC), (carotid, JJ), (revascularization,...   \n",
       "2  [((be, VB), (at, IN), (high, JJ)), ((to, TO),)...   \n",
       "3  [((5, CD), (9, CD), (if, IN)), ((on, IN), (mor...   \n",
       "4  [((suspected, NNP), (abnormality, NNPS), (of, ...   \n",
       "\n",
       "                                                Tags  \\\n",
       "0  [(Diagnosed, VBN), (with, IN), (type, NN), (2,...   \n",
       "1  [(For, IN), (participants, NNS), (aged, VBD), ...   \n",
       "2  [(For, IN), (participants, NNS), (aged, VBD), ...   \n",
       "3  [(HbA1c, NNP), (7, CD), (5, CD), (9, CD), (if,...   \n",
       "4  [(Subjects, NNS), (selected, VBN), (for, IN), ...   \n",
       "\n",
       "                                              Tokens  criteria_id  \n",
       "0  [Diagnosed, with, type, 2, diabetes, mellitus,...            0  \n",
       "1  [For, participants, aged, 40, years, or, older...            1  \n",
       "2  [For, participants, aged, 55, years, or, older...            2  \n",
       "3  [HbA1c, 7, 5, 9, if, on, more, drugs, or, 7, 5...            3  \n",
       "4  [Subjects, selected, for, this, study, will, b...            4  "
      ]
     },
     "execution_count": 86,
     "metadata": {},
     "output_type": "execute_result"
    }
   ],
   "source": [
    "%time\n",
    "criteria = pd.read_pickle(os.path.join(data_dir, 'ct_filtered.pckl'))\n",
    "criteria.head()"
   ]
  },
  {
   "cell_type": "markdown",
   "metadata": {},
   "source": [
    "# Preprocess the data by creating criteria text files\n",
    "\n",
    "Create MedEx input files by exporting each criteria to a text file to \"medex_in\" directory."
   ]
  },
  {
   "cell_type": "code",
   "execution_count": 87,
   "metadata": {
    "collapsed": false
   },
   "outputs": [],
   "source": [
    "def add_medex_prep(df, medex_in):\n",
    "    for (cid, row) in zip(criteria.criteria_id, criteria.Lemmas):\n",
    "        f = open(medex_in + \"medex_\" + str(cid) + \".txt\", \"w\")\n",
    "        for word in [k[1] for k in row]:\n",
    "            f.write(word.encode('ascii', 'replace') + u' ')\n",
    "        f.close()\n",
    "\n",
    "add_medex_prep(criteria, medex_in)"
   ]
  },
  {
   "cell_type": "markdown",
   "metadata": {},
   "source": [
    "# Process the data with MedEx\n",
    "\n",
    "At this moment MedEx is ran in the system shell outside of the notebook.\n",
    "\n",
    "Command Format (in MedEx installation folder):\n",
    "* $ java -Xmx1024m -cp lib/*:bin org.apache.medex.Main -i [input directory] -o [output directory]"
   ]
  },
  {
   "cell_type": "markdown",
   "metadata": {},
   "source": [
    "# Parse MedEx data and write to criteria dataframe\n",
    "\n",
    "For each line in the MedEx output files, the output includes all the drug signatures and their positions (start from 0). Fields are separated by \"|\".\n",
    "\t\t  \n",
    "\t\t  Sentence index (start from 1) \n",
    "\t\t  Sentence text\n",
    "\t\t  Drug name      (e.g. 'simvastatin[0, 11]')\n",
    "          Brand name     (e.g. 'zocor[12, 17]')\n",
    "          Drug form      (e.g. 'tablet[19, 25]')\n",
    "          Strength       (e.g. '10mg[20, 24]')\n",
    "          Dose amount    (e.g. '2 tablets[2, 11]')\n",
    "          Route          (e.g. 'by mouth[10, 18]')\n",
    "          Frequency      (normalized frequency) (e.g. 'b.i.d.(R1P12H)[10, 16]', \n",
    "                          'R1P12H' is the TIMEX3 format of 'b.i.d.') \n",
    "          Duration       (e.g. 'for 10 days[10, 21]')\n",
    "          Neccessity     (e.g. 'prn[10, 13]')\n",
    "          UMLS CUI\n",
    "          RXNORM RxCUI\n",
    "          RXNORM RxCUI for generic name\n",
    "\t\t  Generic name   (associated with RXCUI code)\n",
    "\n",
    "eg. 1\tfailed standard therapy i.e. refractory to corticotropin at least 40 iu/day for 14 day a follows persistent infantile spasm or recurrent spasm after discontinuation or taper or complication require dose modification|corticotropin[43,56]|||40iu[66,71]||||14 day[80,86]||C0985137|315719|376|corticotropin\n",
    "\n",
    "We then extract MedEx terms from the Drug Name and the Generic Name field. Not every term MedEx extracted has a generic name -- for example, there is no generic name for the general drug types like \"convulsants\". In this case, Drug Name is extracted as the term. If a generic name exists, we use the generic name as the term, followed by alternative drug names like the brand names in parenthesis. Drug signature positions are also removed from the data. \n",
    "\n",
    "MedEx reads all the files in the input folder, automatically splits text in the files into sentences, and export parsed results to the designated output folder, one drug on each row.\n",
    "\n",
    "The data in other fields is not utilized at this moment, for they are too sparse to be effective in this small sample dataset. They would be useful when we work with a much greater number of clinical trials."
   ]
  },
  {
   "cell_type": "code",
   "execution_count": 23,
   "metadata": {
    "collapsed": false
   },
   "outputs": [
    {
     "data": {
      "text/html": [
       "<div>\n",
       "<table border=\"1\" class=\"dataframe\">\n",
       "  <thead>\n",
       "    <tr style=\"text-align: right;\">\n",
       "      <th></th>\n",
       "      <th>nct_id</th>\n",
       "      <th>criteria_id</th>\n",
       "      <th>drug_name</th>\n",
       "      <th>drug_form</th>\n",
       "      <th>strength</th>\n",
       "      <th>dose</th>\n",
       "      <th>route</th>\n",
       "      <th>frequency</th>\n",
       "      <th>duration</th>\n",
       "      <th>cui</th>\n",
       "      <th>rxnorm_cui</th>\n",
       "      <th>rxnorm_cui_g</th>\n",
       "      <th>generic_name</th>\n",
       "      <th>term</th>\n",
       "    </tr>\n",
       "  </thead>\n",
       "  <tbody>\n",
       "    <tr>\n",
       "      <th>0</th>\n",
       "      <td>NCT00001205</td>\n",
       "      <td>15</td>\n",
       "      <td>omeprazole</td>\n",
       "      <td></td>\n",
       "      <td></td>\n",
       "      <td></td>\n",
       "      <td>oral</td>\n",
       "      <td></td>\n",
       "      <td></td>\n",
       "      <td>C1306417</td>\n",
       "      <td>393435</td>\n",
       "      <td>7646</td>\n",
       "      <td>omeprazole</td>\n",
       "      <td>omeprazole</td>\n",
       "    </tr>\n",
       "    <tr>\n",
       "      <th>1</th>\n",
       "      <td>NCT00001262</td>\n",
       "      <td>22</td>\n",
       "      <td>octreoscan</td>\n",
       "      <td></td>\n",
       "      <td></td>\n",
       "      <td></td>\n",
       "      <td></td>\n",
       "      <td></td>\n",
       "      <td></td>\n",
       "      <td></td>\n",
       "      <td>228512</td>\n",
       "      <td>228512</td>\n",
       "      <td>octreoscan</td>\n",
       "      <td>octreoscan</td>\n",
       "    </tr>\n",
       "    <tr>\n",
       "      <th>2</th>\n",
       "      <td>NCT00001289</td>\n",
       "      <td>24</td>\n",
       "      <td>interferon alpha</td>\n",
       "      <td></td>\n",
       "      <td></td>\n",
       "      <td></td>\n",
       "      <td></td>\n",
       "      <td></td>\n",
       "      <td></td>\n",
       "      <td></td>\n",
       "      <td>987700</td>\n",
       "      <td>987700</td>\n",
       "      <td>interferon alpha</td>\n",
       "      <td>interferon alpha</td>\n",
       "    </tr>\n",
       "    <tr>\n",
       "      <th>3</th>\n",
       "      <td>NCT00001912</td>\n",
       "      <td>101</td>\n",
       "      <td>prothrombin</td>\n",
       "      <td></td>\n",
       "      <td>000ml</td>\n",
       "      <td></td>\n",
       "      <td></td>\n",
       "      <td></td>\n",
       "      <td></td>\n",
       "      <td></td>\n",
       "      <td>8872</td>\n",
       "      <td>8872</td>\n",
       "      <td>factor ii (prothrombin)</td>\n",
       "      <td>factor ii (prothrombin)</td>\n",
       "    </tr>\n",
       "    <tr>\n",
       "      <th>4</th>\n",
       "      <td>NCT00001912</td>\n",
       "      <td>104</td>\n",
       "      <td>vitamin c</td>\n",
       "      <td></td>\n",
       "      <td></td>\n",
       "      <td></td>\n",
       "      <td></td>\n",
       "      <td></td>\n",
       "      <td></td>\n",
       "      <td>C0003968</td>\n",
       "      <td>1151</td>\n",
       "      <td>1151</td>\n",
       "      <td>ascorbic acid (vit c)</td>\n",
       "      <td>ascorbic acid (vit c)</td>\n",
       "    </tr>\n",
       "    <tr>\n",
       "      <th>5</th>\n",
       "      <td>NCT00001932</td>\n",
       "      <td>122</td>\n",
       "      <td>lactate</td>\n",
       "      <td></td>\n",
       "      <td></td>\n",
       "      <td></td>\n",
       "      <td></td>\n",
       "      <td></td>\n",
       "      <td></td>\n",
       "      <td>C0376261</td>\n",
       "      <td>114202</td>\n",
       "      <td>114202</td>\n",
       "      <td>lactate</td>\n",
       "      <td>lactate</td>\n",
       "    </tr>\n",
       "    <tr>\n",
       "      <th>6</th>\n",
       "      <td>NCT00001932</td>\n",
       "      <td>123</td>\n",
       "      <td>ifn</td>\n",
       "      <td></td>\n",
       "      <td></td>\n",
       "      <td></td>\n",
       "      <td></td>\n",
       "      <td></td>\n",
       "      <td>two week</td>\n",
       "      <td></td>\n",
       "      <td>1367185</td>\n",
       "      <td>1367185</td>\n",
       "      <td>interleukin-6</td>\n",
       "      <td>interleukin-6</td>\n",
       "    </tr>\n",
       "    <tr>\n",
       "      <th>7</th>\n",
       "      <td>NCT00003625</td>\n",
       "      <td>124</td>\n",
       "      <td>corticosteroid</td>\n",
       "      <td></td>\n",
       "      <td></td>\n",
       "      <td></td>\n",
       "      <td></td>\n",
       "      <td></td>\n",
       "      <td></td>\n",
       "      <td></td>\n",
       "      <td>354</td>\n",
       "      <td>354</td>\n",
       "      <td>corticosteroid</td>\n",
       "      <td>corticosteroid</td>\n",
       "    </tr>\n",
       "    <tr>\n",
       "      <th>8</th>\n",
       "      <td>NCT00003625</td>\n",
       "      <td>125</td>\n",
       "      <td>investigational drug</td>\n",
       "      <td></td>\n",
       "      <td></td>\n",
       "      <td></td>\n",
       "      <td></td>\n",
       "      <td></td>\n",
       "      <td>four week</td>\n",
       "      <td>C1875327</td>\n",
       "      <td>691729</td>\n",
       "      <td>691729</td>\n",
       "      <td>investigational drug</td>\n",
       "      <td>investigational drug</td>\n",
       "    </tr>\n",
       "    <tr>\n",
       "      <th>9</th>\n",
       "      <td>NCT00004399</td>\n",
       "      <td>144</td>\n",
       "      <td>albumin</td>\n",
       "      <td></td>\n",
       "      <td>30mg</td>\n",
       "      <td></td>\n",
       "      <td></td>\n",
       "      <td></td>\n",
       "      <td>24 hour</td>\n",
       "      <td>C0001924</td>\n",
       "      <td>433</td>\n",
       "      <td>433</td>\n",
       "      <td>albumin</td>\n",
       "      <td>albumin</td>\n",
       "    </tr>\n",
       "  </tbody>\n",
       "</table>\n",
       "</div>"
      ],
      "text/plain": [
       "        nct_id  criteria_id             drug_name drug_form strength dose  \\\n",
       "0  NCT00001205           15            omeprazole                           \n",
       "1  NCT00001262           22            octreoscan                           \n",
       "2  NCT00001289           24      interferon alpha                           \n",
       "3  NCT00001912          101           prothrombin              000ml        \n",
       "4  NCT00001912          104             vitamin c                           \n",
       "5  NCT00001932          122               lactate                           \n",
       "6  NCT00001932          123                   ifn                           \n",
       "7  NCT00003625          124        corticosteroid                           \n",
       "8  NCT00003625          125  investigational drug                           \n",
       "9  NCT00004399          144               albumin               30mg        \n",
       "\n",
       "  route frequency   duration       cui rxnorm_cui rxnorm_cui_g  \\\n",
       "0  oral                       C1306417     393435         7646   \n",
       "1                                          228512       228512   \n",
       "2                                          987700       987700   \n",
       "3                                            8872         8872   \n",
       "4                             C0003968       1151         1151   \n",
       "5                             C0376261     114202       114202   \n",
       "6                   two week              1367185      1367185   \n",
       "7                                             354          354   \n",
       "8                  four week  C1875327     691729       691729   \n",
       "9                    24 hour  C0001924        433          433   \n",
       "\n",
       "              generic_name                     term  \n",
       "0               omeprazole               omeprazole  \n",
       "1               octreoscan               octreoscan  \n",
       "2         interferon alpha         interferon alpha  \n",
       "3  factor ii (prothrombin)  factor ii (prothrombin)  \n",
       "4    ascorbic acid (vit c)    ascorbic acid (vit c)  \n",
       "5                  lactate                  lactate  \n",
       "6            interleukin-6            interleukin-6  \n",
       "7           corticosteroid           corticosteroid  \n",
       "8     investigational drug     investigational drug  \n",
       "9                  albumin                  albumin  "
      ]
     },
     "execution_count": 23,
     "metadata": {},
     "output_type": "execute_result"
    }
   ],
   "source": [
    "# parse medex output results, add column, delete the generated txt files\n",
    "def create_medex_df(df, medex_in, medex_out, keeptxt=keep_txt_files):\n",
    "    \n",
    "    # remove empty output files\n",
    "    for dirpath, dirs, files in os.walk(medex_out):\n",
    "        for file in files: \n",
    "            path = os.path.join(dirpath, file)\n",
    "            if os.stat(path).st_size == 0:\n",
    "                os.remove(path)\n",
    "                \n",
    "    # read raw data in output txt files\n",
    "    cid_list = []\n",
    "    raw_drug_data = []\n",
    "    for file in glob.glob(medex_out + \"*.txt\"):\n",
    "        cid_list.append(int(file.split('/')[-1][6:-4])) # file # = criteria id\n",
    "        \n",
    "        with open (file, \"r\") as raw:\n",
    "            raw_drug_data.append(raw.read().rstrip('\\n'))\n",
    "            \n",
    "    # optional: delete all files under the input and output directories\n",
    "    if not keeptxt:\n",
    "        files = glob.glob(medex_out+'*') + glob.glob(medex_in+'*')\n",
    "        for f in files:\n",
    "            os.remove(f)\n",
    "            \n",
    "    processed = []\n",
    "    for (count, i) in enumerate(raw_drug_data):\n",
    "        for k in i.split('\\n'):\n",
    "            v = [re.sub(r'\\[.+?\\]\\s*', '', j) for j in k.split('|')[1:]]\n",
    "            v.append(cid_list[count])\n",
    "            processed.append(v)\n",
    "    medex_df = pd.DataFrame(processed, columns=['drug_name', 'brand_name', 'drug_form', 'strength', 'dose',\n",
    "                                                'route', 'frequency', 'duration', 'neccessity', 'cui',\n",
    "                                                'rxnorm_cui', 'rxnorm_cui_g', 'generic_name','criteria_id'])\n",
    "    \n",
    "    # additional filters/text modifications\n",
    "    medex_df = medex_df.drop('brand_name', 1).drop('neccessity', 1)\n",
    "    medex_df = medex_df[medex_df.drug_name!=\"refusal\"][medex_df.drug_name!=\"timeline\"][medex_df.drug_name!=\"impact\"]\n",
    "    medex_df['drug_name'] = medex_df['drug_name'].str.replace(' - ', '-')\n",
    "    medex_df['drug_name'] = medex_df['drug_name'].str.replace(' -', '-')\n",
    "    medex_df['drug_name'] = medex_df['drug_name'].str.replace(\" ' \", \"'\")\n",
    "    medex_df['generic_name'] = medex_df['generic_name'].str.replace(' \\(obsolete\\)', '')\n",
    "    \n",
    "    # converting plural tags to singular if the singular tag is also present in dataset\n",
    "    to_replace = []\n",
    "    checklist = list(medex_df.drug_name)+list(medex_df.generic_name)\n",
    "    for i in medex_df.index:\n",
    "        if str(medex_df.drug_name[i]).endswith(\"s\"):\n",
    "            if str(medex_df.drug_name[i])[:-1] in checklist:\n",
    "                to_replace.append(medex_df.drug_name[i])\n",
    "        if str(medex_df.generic_name[i]).endswith(\"s\"):\n",
    "            if str(medex_df.generic_name[i])[:-1] in checklist:\n",
    "                to_replace.append(medex_df.generic_name[i])\n",
    "    for i in set(to_replace):\n",
    "        medex_df['drug_name'] = medex_df['drug_name'].str.replace(i, i[:-1])\n",
    "        medex_df['generic_name'] = medex_df['generic_name'].str.replace(i, i[:-1])\n",
    "    \n",
    "    # merge with nctid/criteria id dataframe\n",
    "    medex_df = pd.merge(df.loc[:, ['NctId', 'criteria_id']], medex_df, on='criteria_id', how='right')\n",
    "    medex_df = medex_df.rename(columns={'NctId': 'nct_id'})\n",
    "    \n",
    "    # use generic name when possible as term column\n",
    "    medex_df[\"term\"] = np.where(medex_df['generic_name']=='', medex_df['drug_name'], medex_df['generic_name'])\n",
    "    \n",
    "    # add alternative names to terms\n",
    "    to_replace = []\n",
    "    for name, group in medex_df.groupby('term'):\n",
    "        if len(set(group.drug_name))!=1 and len(name)!=0:\n",
    "            other_names = []\n",
    "            for i in set(group.drug_name):\n",
    "                if name != i and (\"/\" not in i):\n",
    "                    other_names.append(i)\n",
    "            to_replace.append((name, name + \" (\" + ', '.join(str(e) for e in set(other_names)) +\")\"))\n",
    "    for (j,k) in to_replace:\n",
    "        medex_df['term'] = medex_df['term'].str.replace(j, k)    \n",
    "    return medex_df\n",
    "    \n",
    "medex = create_medex_df(criteria.loc[:, ['NctId', 'criteria_id']], medex_in, medex_out)\n",
    "medex.to_pickle(os.path.join(data_dir, 'medex.pckl'))\n",
    "\n",
    "medex.head(100)"
   ]
  },
  {
   "cell_type": "markdown",
   "metadata": {},
   "source": [
    "# The distribution of drug name types\n",
    "\n",
    "By comparing the data in the Generic Name column and Drug Name column, we can see that clinical trials mention the drugs by the generic name much more often than by the brand name."
   ]
  },
  {
   "cell_type": "code",
   "execution_count": 9,
   "metadata": {
    "collapsed": false
   },
   "outputs": [
    {
     "name": "stderr",
     "output_type": "stream",
     "text": [
      "//anaconda/lib/python2.7/site-packages/pandas/core/frame.py:1825: UserWarning: Boolean Series key will be reindexed to match DataFrame index.\n",
      "  \"DataFrame index.\", UserWarning)\n"
     ]
    }
   ],
   "source": [
    "#medex = pd.read_pickle(os.path.join(data_dir, 'medex.pckl'))\n",
    "ngg = len(medex[medex.generic_name==\"\"])/float(len(medex))\n",
    "gd = len(medex[medex.generic_name==medex.drug_name])/float(len(medex))\n",
    "ngd = len(medex[medex.generic_name!=\"\"][medex.generic_name!=medex.drug_name])/float(len(medex))"
   ]
  },
  {
   "cell_type": "code",
   "execution_count": 10,
   "metadata": {
    "collapsed": false
   },
   "outputs": [
    {
     "data": {
      "text/plain": [
       "<matplotlib.text.Text at 0x10731be50>"
      ]
     },
     "execution_count": 10,
     "metadata": {},
     "output_type": "execute_result"
    },
    {
     "data": {
      "image/png": "[encoded data removed]",
      "text/plain": [
       "<matplotlib.figure.Figure at 0x1072f3d10>"
      ]
     },
     "metadata": {},
     "output_type": "display_data"
    }
   ],
   "source": [
    "plt.figure(figsize=(24,3));\n",
    "ax = plt.gca();\n",
    "ax.grid(False);\n",
    "ax.patch.set_visible(False);\n",
    "plt.axis('off');\n",
    "plt.plot([0, ngg], [5, 5], linewidth=100, linestyle=\"-\", c=\"#999999\",solid_capstyle=\"butt\");\n",
    "plt.plot([ngg, ngg+gd], [5, 5], linewidth=100, linestyle=\"-\", c=\"#0099CC\",solid_capstyle=\"butt\");\n",
    "plt.plot([ngg+gd, gd+ngg+ngd], [5, 5], linewidth=100, linestyle=\"-\", c='#99CC00',solid_capstyle=\"butt\");\n",
    "plt.annotate(str(round(ngg*100,1))+\"%\", xy=(0,5),size=20)\n",
    "plt.annotate(str(round(gd*100,1))+\"%\", xy=(ngg+gd/2,5),size=20,color='#000064')\n",
    "plt.annotate(str(round(ngd*100,1))+\"%\", xy=(ngg+gd+ngd/2-0.05,5),size=20,color='#006400')\n",
    "plt.annotate(\"No Generic Name\", xy=(0,4.75),size=20)\n",
    "plt.annotate(\"Generic Drug\", xy=(ngg+gd/2,4.75),size=20,color='#000064')\n",
    "plt.annotate(\"Brand Drug\", xy=(ngg+gd+ngd/2-0.05,4.75),size=20,color='#006400')\n",
    "plt.title(\"Distribution of drug name types\", fontsize=30)"
   ]
  },
  {
   "cell_type": "code",
   "execution_count": null,
   "metadata": {
    "collapsed": true
   },
   "outputs": [],
   "source": []
  }
 ],
 "metadata": {
  "kernelspec": {
   "display_name": "Python 2",
   "language": "python",
   "name": "python2"
  },
  "language_info": {
   "codemirror_mode": {
    "name": "ipython",
    "version": 2
   },
   "file_extension": ".py",
   "mimetype": "text/x-python",
   "name": "python",
   "nbconvert_exporter": "python",
   "pygments_lexer": "ipython2",
   "version": "2.7.11"
  }
 },
 "nbformat": 4,
 "nbformat_minor": 0
}
